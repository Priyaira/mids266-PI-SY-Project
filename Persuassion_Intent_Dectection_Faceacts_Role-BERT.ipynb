{
  "cells": [
    {
      "cell_type": "markdown",
      "metadata": {
        "id": "Z-44Qz4-Xd1o"
      },
      "source": [
        "# Computational Modeling of Face Acts in Persuasion Oriented Discussions\n",
        "\n",
        "**Description:** The notion of face refers to the public self-\n",
        "image of an individual that emerges both from the individual’s own actions as well as from the interaction with others. Modeling face and understanding its state changes throughout a conversation is critical to the study of maintenance of basic human needs in and through interaction.\n",
        "\n",
        "we propose a generalized framework for modeling face acts in persuasion conversations, resulting in a reliable coding manual, an annotated corpus, and\n",
        "computational models. The framework reveals insights about differences in face act utilization between asymmetric roles in persuasion conversations. Using computational models,we are trying to identify face acts as well as predict a key conversational outcome(e.g. donation success).\n",
        "\n",
        "\n",
        "* Working with DeBERTa - Known for high performance on various NLP benchmarks, DeBERTa uses disentangled attention and enhanced representations. It's effective for more nuanced intent detection tasks.\n",
        "\n",
        "\n",
        "# Data Description\n",
        "We use the pre-existing persuasion corpus of Wang et al. (2019). Each conversation comprises a series of exchanges where the persuader (ER) has to\n",
        "convince the persuadee (EE) to donate a part of their task earnings to the charity, Save the Children.This selected corpus is well-situated for our task\n",
        "since each conversation is guaranteed to have a potential face threat (i.e., a request for money) and hence, we can expect face act exchanges between\n",
        "the two participants.\n",
        "\n",
        "In a two-party conversation, a face act can either raise (+) or attack (-) the positive face (Pos) or negative face (Neg) of either the speaker (S) or the hearer (H), leading to 8 possible different outcomes. For example, HPos+ means raising the positive face of the hearer. We provide a generalized framework below for labelling a speech act / utterance with one or more face acts, building upon the politeness theory of Brown and Levinson\n",
        "(1978).The framework is designed to be explicit enough to ensure the creation of a reliable coding manual for classifying face-acts, as opposed to the simple classification of requests and other directives as intrinsic FTAs (Brown and Levinson,1978). Moreover, since we also seek to operationalize FSA, we make some departure from the original classification of directives. For example, we feel that compliments directed at the hearer, should be HPos+ rather than HNeg- (as observed in Brown et al. (1987)) since an appreciation for someone’s\n",
        "efforts is more desirable.\n",
        "\n",
        "| Face Act  | Description |\n",
        "|-----------|-------------|\n",
        "| **SPos+ (i)**  | S posit that they are virtuous in some aspects or they are good. |\n",
        "| **SPos+ (ii)** | S compliment the brand or item they represent or endorse and thus project their credibility. |\n",
        "| **SPos+ (iii)** | S state their preference or want, something that they like or value. |\n",
        "| **SPos- (i)** | S confess or apologize for being unable to do something that is expected of them. |\n",
        "| **SPos- (ii)** | S criticize or humiliate themselves. They damage their reputation or values by either saying they are not so virtuous or criticize some aspect of the brand/item they endorse or support. |\n",
        "| **HPos+ (i)** | S compliment H either for H’s virtues, efforts, likes or desires. It also extends to S acknowledging the efforts of H and showing support for H. |\n",
        "| **HPos+ (ii)** | S can also provide an implicit compliment to incentivize H to do something good. |\n",
        "| **HPos+ (iii)** | S empathize / sympathize or in general agree with H. |\n",
        "| **HPos+ (iv)** | S is willing to do the FTA as imposed by H (implying that the FTA is agreeable to S). |\n",
        "| **HPos- (i)** | S voice doubts or criticize H or the product/brand that H endorses. |\n",
        "| **HPos- (ii)** | S disagree with H over some stance, basically contradicting their viewpoint. |\n",
        "| **HPos- (iii)** | S is either unaware or indifferent to H’s wants or preferences. |\n",
        "| **SNeg+ (i)** | S reject or are unwilling to do the FTA. Stating the reason does not change the circumstances of non-compliance but sometimes helps to mitigate the face act. |\n",
        "| **SNeg- (i)** | S offer to assist H. |\n",
        "| **HNeg+ (i)** | S seek to decrease the imposition of the FTA on H by either decreasing the inconvenience such as providing alternate, simpler ways to carry out the FTA or decrease the threat associated with the FTA. |\n",
        "| **HNeg+ (ii)** | S apologize for the FTA to show that S understood the inconvenience of imposing the request but they have to request nevertheless. |\n",
        "| **HNeg- (i)** | S impose an FTA on the H. The FTA is some act which H would not have done on their own. |\n",
        "| **HNeg- (ii)** | S increase the threat or ranking of the FTA. |\n",
        "| **HNeg- (iii)** | S ask/request H for assistance. |\n"
      ]
    },
    {
      "cell_type": "markdown",
      "metadata": {
        "id": "NK2xTV-Xisrl"
      },
      "source": [
        "### 1. Setup\n",
        "\n",
        "Lets get all our libraries and download and process our data."
      ]
    },
    {
      "cell_type": "code",
      "execution_count": 4,
      "metadata": {
        "id": "3gzOXaFdmgO8",
        "colab": {
          "base_uri": "https://localhost:8080/"
        },
        "outputId": "a14c809a-eaae-4ee4-b1c9-5c872700191c"
      },
      "outputs": [
        {
          "output_type": "stream",
          "name": "stdout",
          "text": [
            "/bin/bash: line 1: 5.0.0: No such file or directory\n"
          ]
        }
      ],
      "source": [
        "!pip install transformers>=4.41.0,<5.0.0 --upgrade"
      ]
    },
    {
      "cell_type": "code",
      "source": [
        "#Download Keras 2 versions of software\n",
        "!pip install tensorflow==2.15.0 --quiet\n",
        "!pip install tf-keras==2.15.0 --quiet\n",
        "!pip install tensorflow-text==2.15.0 --quiet\n",
        "!pip install ml-dtypes>=0.3.1 --quiet"
      ],
      "metadata": {
        "id": "7e--NRLzcs00"
      },
      "execution_count": 5,
      "outputs": []
    },
    {
      "cell_type": "code",
      "source": [
        "!pip install pyarrow==17.0.0  # Compatible with cudf-cu12 and pylibcudf-cu12\n",
        "!pip install fsspec==2024.10.0  # Required by gcsfs\n",
        "!pip install transformers==4.41.0  # Compatible with sentence-transformers"
      ],
      "metadata": {
        "id": "oY_bBEzK52cn",
        "colab": {
          "base_uri": "https://localhost:8080/"
        },
        "outputId": "0e1d15b3-2c2a-4204-dff4-6fff9318e5ff"
      },
      "execution_count": 8,
      "outputs": [
        {
          "output_type": "stream",
          "name": "stdout",
          "text": [
            "Requirement already satisfied: pyarrow==17.0.0 in /usr/local/lib/python3.10/dist-packages (17.0.0)\n",
            "Requirement already satisfied: numpy>=1.16.6 in /usr/local/lib/python3.10/dist-packages (from pyarrow==17.0.0) (1.26.4)\n",
            "Requirement already satisfied: fsspec==2024.10.0 in /usr/local/lib/python3.10/dist-packages (2024.10.0)\n",
            "Requirement already satisfied: transformers==4.41.0 in /usr/local/lib/python3.10/dist-packages (4.41.0)\n",
            "Requirement already satisfied: filelock in /usr/local/lib/python3.10/dist-packages (from transformers==4.41.0) (3.16.1)\n",
            "Requirement already satisfied: huggingface-hub<1.0,>=0.23.0 in /usr/local/lib/python3.10/dist-packages (from transformers==4.41.0) (0.26.2)\n",
            "Requirement already satisfied: numpy>=1.17 in /usr/local/lib/python3.10/dist-packages (from transformers==4.41.0) (1.26.4)\n",
            "Requirement already satisfied: packaging>=20.0 in /usr/local/lib/python3.10/dist-packages (from transformers==4.41.0) (24.2)\n",
            "Requirement already satisfied: pyyaml>=5.1 in /usr/local/lib/python3.10/dist-packages (from transformers==4.41.0) (6.0.2)\n",
            "Requirement already satisfied: regex!=2019.12.17 in /usr/local/lib/python3.10/dist-packages (from transformers==4.41.0) (2024.9.11)\n",
            "Requirement already satisfied: requests in /usr/local/lib/python3.10/dist-packages (from transformers==4.41.0) (2.32.3)\n",
            "Requirement already satisfied: tokenizers<0.20,>=0.19 in /usr/local/lib/python3.10/dist-packages (from transformers==4.41.0) (0.19.1)\n",
            "Requirement already satisfied: safetensors>=0.4.1 in /usr/local/lib/python3.10/dist-packages (from transformers==4.41.0) (0.4.5)\n",
            "Requirement already satisfied: tqdm>=4.27 in /usr/local/lib/python3.10/dist-packages (from transformers==4.41.0) (4.66.6)\n",
            "Requirement already satisfied: fsspec>=2023.5.0 in /usr/local/lib/python3.10/dist-packages (from huggingface-hub<1.0,>=0.23.0->transformers==4.41.0) (2024.10.0)\n",
            "Requirement already satisfied: typing-extensions>=3.7.4.3 in /usr/local/lib/python3.10/dist-packages (from huggingface-hub<1.0,>=0.23.0->transformers==4.41.0) (4.12.2)\n",
            "Requirement already satisfied: charset-normalizer<4,>=2 in /usr/local/lib/python3.10/dist-packages (from requests->transformers==4.41.0) (3.4.0)\n",
            "Requirement already satisfied: idna<4,>=2.5 in /usr/local/lib/python3.10/dist-packages (from requests->transformers==4.41.0) (3.10)\n",
            "Requirement already satisfied: urllib3<3,>=1.21.1 in /usr/local/lib/python3.10/dist-packages (from requests->transformers==4.41.0) (2.2.3)\n",
            "Requirement already satisfied: certifi>=2017.4.17 in /usr/local/lib/python3.10/dist-packages (from requests->transformers==4.41.0) (2024.8.30)\n"
          ]
        }
      ]
    },
    {
      "cell_type": "code",
      "execution_count": 9,
      "metadata": {
        "id": "ULcKJUjHmkZT",
        "colab": {
          "base_uri": "https://localhost:8080/"
        },
        "outputId": "a9794668-3733-4ef2-a096-3a480335e229"
      },
      "outputs": [
        {
          "output_type": "stream",
          "name": "stdout",
          "text": [
            "Requirement already satisfied: pydot in /usr/local/lib/python3.10/dist-packages (3.0.2)\n",
            "Requirement already satisfied: pyparsing>=3.0.9 in /usr/local/lib/python3.10/dist-packages (from pydot) (3.2.0)\n"
          ]
        }
      ],
      "source": [
        "!pip install pydot"
      ]
    },
    {
      "cell_type": "code",
      "execution_count": 10,
      "metadata": {
        "id": "FWGGRWGny4p7",
        "colab": {
          "base_uri": "https://localhost:8080/"
        },
        "outputId": "0c26bc99-8fc7-4389-9d2b-646f9db7b00a"
      },
      "outputs": [
        {
          "output_type": "stream",
          "name": "stdout",
          "text": [
            "Requirement already satisfied: scikit-learn in /usr/local/lib/python3.10/dist-packages (1.5.2)\n",
            "Requirement already satisfied: numpy>=1.19.5 in /usr/local/lib/python3.10/dist-packages (from scikit-learn) (1.26.4)\n",
            "Requirement already satisfied: scipy>=1.6.0 in /usr/local/lib/python3.10/dist-packages (from scikit-learn) (1.13.1)\n",
            "Requirement already satisfied: joblib>=1.2.0 in /usr/local/lib/python3.10/dist-packages (from scikit-learn) (1.4.2)\n",
            "Requirement already satisfied: threadpoolctl>=3.1.0 in /usr/local/lib/python3.10/dist-packages (from scikit-learn) (3.5.0)\n"
          ]
        }
      ],
      "source": [
        "!pip install -U scikit-learn"
      ]
    },
    {
      "cell_type": "code",
      "execution_count": 11,
      "metadata": {
        "id": "aTq7Qjqbmkfv"
      },
      "outputs": [],
      "source": [
        "from sklearn.metrics import classification_report"
      ]
    },
    {
      "cell_type": "code",
      "source": [
        "from datasets import load_dataset"
      ],
      "metadata": {
        "id": "KQ7LQ8jAcceW"
      },
      "execution_count": 12,
      "outputs": []
    },
    {
      "cell_type": "code",
      "execution_count": 13,
      "metadata": {
        "id": "-6E-xzDawK0Q"
      },
      "outputs": [],
      "source": [
        "from collections import Counter\n",
        "import numpy as np\n",
        "import pandas as pd\n",
        "import tensorflow as tf\n",
        "from tensorflow import keras\n",
        "from datasets import Dataset\n",
        "from sklearn.utils import shuffle\n",
        "\n",
        "import seaborn as sns\n",
        "import re\n",
        "import matplotlib.pyplot as plt\n",
        "from pprint import pprint\n",
        "from sklearn.model_selection import train_test_split\n",
        "from collections import defaultdict\n",
        "from transformers import DebertaV2Tokenizer, DebertaV2ForSequenceClassification"
      ]
    },
    {
      "cell_type": "code",
      "execution_count": 14,
      "metadata": {
        "id": "99yIOuqFXMwU"
      },
      "outputs": [],
      "source": [
        "from transformers import BertTokenizer, TFBertModel\n",
        "import tensorflow as tf\n",
        "from transformers import TFDebertaV2ForSequenceClassification\n",
        "from sklearn.utils import class_weight"
      ]
    },
    {
      "cell_type": "markdown",
      "metadata": {
        "id": "wxKgQ2kK7HK4"
      },
      "source": [
        "We're going to use the 20 newsgroups dataset as it is ideal for exploring multiclass classification.  It includes posts from 20 different newsgroups.  Our task will be to correctly label a post with it's group.  We'll download a version available from Hugging Face."
      ]
    },
    {
      "cell_type": "markdown",
      "source": [
        "### 2. Load the Dataset"
      ],
      "metadata": {
        "id": "Ahzq5-p1O59P"
      }
    },
    {
      "cell_type": "code",
      "source": [
        "# GitHub raw URL\n",
        "url = 'https://raw.githubusercontent.com/ShoRit/face-acts/master/data/Persuasion%20Face%20Act%20Prediction.xlsx'\n",
        "\n",
        "# Load the Excel file\n",
        "ds = pd.read_excel(url, engine='openpyxl')\n",
        "\n",
        "# Step 2: Select the desired columns\n",
        "ds = ds[['conversation_id', 'speaker', 'utterance', 'true_face']]\n",
        "\n",
        "# Map speaker values to labels using .loc to avoid SettingWithCopyWarning\n",
        "ds.loc[:, 'speaker'] = ds['speaker'].map({0: 'ER', 1: 'EE'})\n",
        "\n",
        "\n",
        "# Display the new DataFrame with selected columns\n",
        "print(ds.head(5))\n",
        "\n"
      ],
      "metadata": {
        "colab": {
          "base_uri": "https://localhost:8080/"
        },
        "id": "dmYu3umKavng",
        "outputId": "4b0172de-850e-4de6-9266-486afa04cf56"
      },
      "execution_count": 15,
      "outputs": [
        {
          "output_type": "stream",
          "name": "stdout",
          "text": [
            "   conversation_id speaker                                          utterance  \\\n",
            "0              120      ER                                                Hi!   \n",
            "1              120      ER  Have you heard of an organization called Save ...   \n",
            "2              120      EE  I think I have once before, in a grocery store...   \n",
            "3              120      ER  Do you mind if i give you a little information...   \n",
            "4              120      EE                                     Sure, go ahead   \n",
            "\n",
            "  true_face  \n",
            "0     other  \n",
            "1     other  \n",
            "2     hpos+  \n",
            "3     hneg-  \n",
            "4     hpos+  \n"
          ]
        },
        {
          "output_type": "stream",
          "name": "stderr",
          "text": [
            "<ipython-input-15-9c328697f2d7>:11: FutureWarning: Setting an item of incompatible dtype is deprecated and will raise in a future error of pandas. Value '['ER' 'ER' 'EE' ... 'EE' 'ER' 'EE']' has dtype incompatible with int64, please explicitly cast to a compatible dtype first.\n",
            "  ds.loc[:, 'speaker'] = ds['speaker'].map({0: 'ER', 1: 'EE'})\n"
          ]
        }
      ]
    },
    {
      "cell_type": "markdown",
      "metadata": {
        "id": "8Ocyl9dnb1OM"
      },
      "source": [
        "Take a look at the records.  We basically have a Conversation_id, speaker with binary values of 0 and 1 representing a EE and ER , Persuadee and persuader for \"Save the Children\" charity donation. Utterence by the EE/ER and the true_face which we will use in the model for multi-classification into the above 7 classes."
      ]
    },
    {
      "cell_type": "markdown",
      "source": [
        "Take a look at the sample record:\n",
        "* Identifier: Unique identifier for the conversation.\n",
        "\n",
        "* Speaker: The speaker refers to the individual delivering the utterance, which can be a participant in the conversation, such as ER or EE. ER acts as the Persuader, attempting to convince EE, the Persuadee, to contribute to the charity program \"Save the Children.\"\n",
        "\n",
        "* Utterance: The spoken or written statement made by the speaker. This reflects their thoughts, feelings, or intentions.\n",
        "\n",
        "* True Face: A classification that captures the underlying intent or emotional state of the speaker. It may indicate positive or negative aspects of their communication, categorized into different labels (e.g., HPos+, HPos-, SPos+, SPos-).\n"
      ],
      "metadata": {
        "id": "9RjPAKphN20Z"
      }
    },
    {
      "cell_type": "markdown",
      "source": [
        "## 2.1 Identify unique speaker and true_face values in the dataset\n"
      ],
      "metadata": {
        "id": "67k41HArUUC8"
      }
    },
    {
      "cell_type": "code",
      "source": [
        "# Initialize a dictionary to store unique true_faces for each speaker\n",
        "speaker_true_faces = defaultdict(set)\n",
        "\n",
        "# Iterate through the DataFrame to collect unique true_faces for each speaker\n",
        "for index, row in ds.iterrows():  # Using iterrows() to get each row\n",
        "    speaker = row['speaker']\n",
        "    true_face = row['true_face']\n",
        "\n",
        "    # Add the true_face to the set for the corresponding speaker\n",
        "    speaker_true_faces[speaker].add(true_face)\n",
        "\n",
        "# Convert the sets to lists for better readability\n",
        "speaker_true_faces = {speaker: list(true_faces) for speaker, true_faces in speaker_true_faces.items()}\n",
        "\n",
        "# Create a DataFrame to view unique speakers and their unique true_faces\n",
        "unique_speakers_df = pd.DataFrame({\n",
        "    'Speaker': speaker_true_faces.keys(),\n",
        "    'Unique True Faces': [true_faces for true_faces in speaker_true_faces.values()]\n",
        "})\n",
        "\n",
        "# Display the DataFrame\n",
        "print(unique_speakers_df)"
      ],
      "metadata": {
        "colab": {
          "base_uri": "https://localhost:8080/"
        },
        "id": "6d8CK7F5UQef",
        "outputId": "499b7243-38fe-47e1-d889-3af7376c394e"
      },
      "execution_count": 16,
      "outputs": [
        {
          "output_type": "stream",
          "name": "stdout",
          "text": [
            "  Speaker                                  Unique True Faces\n",
            "0      ER         [hpos-, hneg-, hpos+, other, spos+, hneg+]\n",
            "1      EE  [hpos-, sneg+, spos-, hneg-, hpos+, other, spos+]\n"
          ]
        }
      ]
    },
    {
      "cell_type": "markdown",
      "source": [
        "## Observations\n",
        "\n",
        "* ER lacks the spos- expression, which is indeed significant. Since ER represents the charity, it is logical that they wouldn’t express negative sentiments towards the organization they are promoting. Criticism would be counterproductive in a persuasive context where the goal is to encourage the EE to donate.\n",
        "\n",
        "* Diversity in Expression: This difference may indicate that EE is capable of conveying a greater variety of emotional states including criticism towards charity.\n",
        "\n",
        "* Model Training: If we are using this data, having more unique expressions for one speaker could affect how a model learns to recognize and classify emotions, possibly leading to more robust outcomes for EE.\n",
        "\n",
        "* Next Steps : Modelling the BERT model for ER and EE separately as EE has one additional emotional variance as compared to EE.\n"
      ],
      "metadata": {
        "id": "mZ8WPUwjVPp-"
      }
    },
    {
      "cell_type": "markdown",
      "source": [
        "### 2.2 Split the dataset into ER and EE datasets"
      ],
      "metadata": {
        "id": "LZXsjZY_6l0a"
      }
    },
    {
      "cell_type": "code",
      "source": [
        "# Split the DataFrame into ER and EE datasets\n",
        "ER_dataset = ds[ds['speaker'] == 'ER']\n",
        "EE_dataset = ds[ds['speaker'] == 'EE']\n",
        "\n",
        "# Display the first 5 rows of each dataset\n",
        "print(\"ER Dataset:\")\n",
        "print(ER_dataset.head(5))\n",
        "\n",
        "print(\"\\nEE Dataset:\")\n",
        "print(EE_dataset.head(5))"
      ],
      "metadata": {
        "colab": {
          "base_uri": "https://localhost:8080/"
        },
        "id": "hYGqSVLb6pr3",
        "outputId": "9b72240e-3c8f-4b2a-90f0-92b816674cd1"
      },
      "execution_count": 17,
      "outputs": [
        {
          "output_type": "stream",
          "name": "stdout",
          "text": [
            "ER Dataset:\n",
            "   conversation_id speaker                                          utterance  \\\n",
            "0              120      ER                                                Hi!   \n",
            "1              120      ER  Have you heard of an organization called Save ...   \n",
            "3              120      ER  Do you mind if i give you a little information...   \n",
            "5              120      ER  Just some ver basic info, Save the Children is...   \n",
            "7              120      ER                                      Yes they are!   \n",
            "\n",
            "  true_face  \n",
            "0     other  \n",
            "1     other  \n",
            "3     hneg-  \n",
            "5     spos+  \n",
            "7     other  \n",
            "\n",
            "EE Dataset:\n",
            "    conversation_id speaker  \\\n",
            "2               120      EE   \n",
            "4               120      EE   \n",
            "6               120      EE   \n",
            "13              120      EE   \n",
            "14              120      EE   \n",
            "\n",
            "                                            utterance true_face  \n",
            "2   I think I have once before, in a grocery store...     hpos+  \n",
            "4                                      Sure, go ahead     hpos+  \n",
            "6                 Are they a non profit organization?     hneg-  \n",
            "13                             Oh wow, shocking news.     hpos+  \n",
            "14  Do you know how many children have been helped...     hneg-  \n"
          ]
        }
      ]
    },
    {
      "cell_type": "markdown",
      "source": [
        "## 2.2 Format the ER dataset to train the model"
      ],
      "metadata": {
        "id": "lZtJ6PDzR0p5"
      }
    },
    {
      "cell_type": "code",
      "source": [
        "# Function to clean dialogue\n",
        "def clean_dialogue(dialogue):\n",
        "    if isinstance(dialogue, str):  # Ensure the input is a string\n",
        "        # Lowercase\n",
        "        dialogue = dialogue.lower()\n",
        "        # Remove punctuation\n",
        "        dialogue = re.sub(r'[^\\w\\s]', '', dialogue)\n",
        "        # Strip whitespace\n",
        "        dialogue = dialogue.strip()\n",
        "        return dialogue\n",
        "    else:\n",
        "        return \"\"  # Return an empty string or handle as you prefer\n",
        "\n",
        "cleaned_data = []\n",
        "ER_formatted_ds = []\n",
        "true_face_labels = set()  # To collect unique true_face labels\n",
        "\n",
        "# Use iterrows() to iterate through the DataFrame\n",
        "for index, row in ER_dataset.iterrows():\n",
        "    speaker = row['speaker']\n",
        "    utterance = row['utterance']\n",
        "    true_face = row['true_face']\n",
        "\n",
        "    # Clean the utterance\n",
        "    cleaned_utterance = clean_dialogue(utterance)\n",
        "\n",
        "    # Collect unique true_face labels\n",
        "    true_face_labels.add(true_face)\n",
        "\n",
        "    # Append the speaker and cleaned utterance to the formatted data\n",
        "    ER_formatted_ds.append({\n",
        "        'speaker': f\"{speaker}\",\n",
        "        'dialogue': cleaned_utterance,  # Store cleaned dialogue\n",
        "        'true_face': true_face  # Keep original true_face for now\n",
        "    })\n",
        "\n",
        "# Create a mapping from true_face labels to IDs\n",
        "sorted_labels = sorted(label for label in true_face_labels)\n",
        "\n",
        "# Create a mapping from sorted labels to IDs\n",
        "true_face_to_id = {label: idx for idx, label in enumerate(sorted_labels)}\n",
        "\n",
        "# Create a new Dataset from the formatted data and convert labels to IDs\n",
        "ER_formatted_ds = Dataset.from_dict({\n",
        "    'speaker': [entry['speaker'] for entry in ER_formatted_ds],\n",
        "    'dialogue': [entry['dialogue'] for entry in ER_formatted_ds],\n",
        "    'true_face_id': [true_face_to_id[entry['true_face']] for entry in ER_formatted_ds],  # Converts true_face to ID\n",
        "    'true_face': [entry['true_face'] for entry in ER_formatted_ds]  # Keeps the original true_face\n",
        "})\n",
        "\n",
        "# Display first 100 entries of the formatted dataset\n",
        "print(ER_formatted_ds[:5])\n",
        "# Print the mapping of true_face labels to IDs\n",
        "print(true_face_to_id)\n"
      ],
      "metadata": {
        "colab": {
          "base_uri": "https://localhost:8080/"
        },
        "id": "TdLcUfi_R6b6",
        "outputId": "83c3148e-2fc7-4eb1-c240-a76ba198b6e8"
      },
      "execution_count": 18,
      "outputs": [
        {
          "output_type": "stream",
          "name": "stdout",
          "text": [
            "{'speaker': ['ER', 'ER', 'ER', 'ER', 'ER'], 'dialogue': ['hi', 'have you heard of an organization called save the children', 'do you mind if i give you a little information about them', 'just some ver basic info save the children is an international nongovernmental organization that promotes childrens rights provides relief and helps support children in developing countries', 'yes they are'], 'true_face_id': [4, 4, 1, 5, 4], 'true_face': ['other', 'other', 'hneg-', 'spos+', 'other']}\n",
            "{'hneg+': 0, 'hneg-': 1, 'hpos+': 2, 'hpos-': 3, 'other': 4, 'spos+': 5}\n"
          ]
        }
      ]
    },
    {
      "cell_type": "markdown",
      "source": [],
      "metadata": {
        "id": "Ge3QgYw_GKxl"
      }
    },
    {
      "cell_type": "markdown",
      "source": [
        "### 3. Explore the ER Dataset"
      ],
      "metadata": {
        "id": "erehZt5QO9r6"
      }
    },
    {
      "cell_type": "code",
      "source": [
        "ER_df = pd.DataFrame(ER_formatted_ds)\n",
        "# Count occurrences of each true_face label\n",
        "true_face_counts = ER_df['true_face'].value_counts()\n",
        "\n",
        "# Plot the distribution\n",
        "plt.figure(figsize=(10, 5))\n",
        "true_face_counts.plot(kind='bar')\n",
        "plt.title('Persuader Distribution of True Face Labels')\n",
        "plt.xlabel('True Face Labels')\n",
        "plt.ylabel('Count')\n",
        "plt.xticks(rotation=45)\n",
        "plt.show()\n",
        "\n",
        "# Get unique values and their counts from the 'true_face' column in ER_ds\n",
        "true_face_counts = ER_df['true_face'].value_counts()\n",
        "\n",
        "# Convert the counts to a dictionary if needed\n",
        "true_face_counts_dict = true_face_counts.to_dict()\n",
        "\n",
        "# Print the unique values and their counts\n",
        "print(true_face_counts)  # This will display the counts in descending order"
      ],
      "metadata": {
        "colab": {
          "base_uri": "https://localhost:8080/",
          "height": 659
        },
        "id": "Xls8bnv7mAMY",
        "outputId": "c5f5934d-e019-45a1-db01-9b1b9f31f220"
      },
      "execution_count": 19,
      "outputs": [
        {
          "output_type": "display_data",
          "data": {
            "text/plain": [
              "<Figure size 1000x500 with 1 Axes>"
            ],
            "image/png": "[encoded data removed]"
          },
          "metadata": {}
        },
        {
          "output_type": "stream",
          "name": "stdout",
          "text": [
            "true_face\n",
            "other    2468\n",
            "hpos+    1277\n",
            "spos+    1221\n",
            "hneg-     593\n",
            "hneg+     305\n",
            "hpos-      62\n",
            "Name: count, dtype: int64\n"
          ]
        }
      ]
    },
    {
      "cell_type": "markdown",
      "source": [
        "### 3.1 Split the ER dataset into Train, Validation and Test sets"
      ],
      "metadata": {
        "id": "S_2c0Ob9IWXV"
      }
    },
    {
      "cell_type": "code",
      "source": [
        "# Shuffle the dataset\n",
        "ER_ds_shuffled = ER_formatted_ds.shuffle(seed=42)\n",
        "\n",
        "# Split the dataset into training and testing sets\n",
        "ER_train_ds, ER_test_ds = ER_formatted_ds.train_test_split(test_size=0.2).values()\n",
        "\n",
        "# Split the dataset into training and validation sets (80% train, 20% validation)\n",
        "ER_train_ds, ER_valid_ds = ER_formatted_ds.train_test_split(test_size=0.2).values()\n",
        "\n",
        "# Display the sizes of the splits\n",
        "print(f\"Train size: {len(ER_train_ds)}, Validation size: {len(ER_valid_ds)}, Test size: {len(ER_test_ds)}\")\n",
        "\n",
        "print(ER_train_ds[0])\n",
        "print(ER_valid_ds[0])\n",
        "print(ER_test_ds[0])\n"
      ],
      "metadata": {
        "colab": {
          "base_uri": "https://localhost:8080/"
        },
        "id": "Nb_G5WuvO9b5",
        "outputId": "1220ab2e-16fe-46c4-8c1e-9effe204a032"
      },
      "execution_count": 20,
      "outputs": [
        {
          "output_type": "stream",
          "name": "stdout",
          "text": [
            "Train size: 4740, Validation size: 1186, Test size: 1186\n",
            "{'speaker': 'ER', 'dialogue': 'very well thanks', 'true_face_id': 4, 'true_face': 'other'}\n",
            "{'speaker': 'ER', 'dialogue': 'thats why it does make such a difference to even do small things', 'true_face_id': 0, 'true_face': 'hneg+'}\n",
            "{'speaker': 'ER', 'dialogue': 'it can be any amount from just 010 to the full payment', 'true_face_id': 4, 'true_face': 'other'}\n"
          ]
        }
      ]
    },
    {
      "cell_type": "markdown",
      "source": [
        "Now we need to assemble the training data. We need to create parallel lists of normalized content."
      ],
      "metadata": {
        "id": "49S8RkKN0Vb8"
      }
    },
    {
      "cell_type": "code",
      "source": [
        "ER_train_tags = []\n",
        "ER_train_labels = []\n",
        "ER_train_texts = []\n",
        "\n",
        "# Iterate over the formatted dataset\n",
        "for item in ER_train_ds:\n",
        "    ER_train_texts.append(item['dialogue'])  # Add the cleaned dialogue to train_text\n",
        "    ER_train_labels.append(item['true_face_id'])  # Add the true_face ID to train_labels\n",
        "    ER_train_tags.append(item['true_face'])  # Add the original true_face to train_tags (optional)\n",
        "\n",
        "# Print out the sizes of the lists\n",
        "print(f\"Number of training samples: {len(ER_train_texts)}\")\n",
        "print(f\"Number of training labels: {len(ER_train_labels)}\")\n",
        "print(f\"Number of training tags: {len(ER_train_tags)}\")\n",
        "\n",
        "# Print the extracted lists (optional)\n",
        "print(ER_train_texts[:15])\n",
        "print(ER_train_tags[:15])  # Print first 5 elements for verification\n",
        "print(ER_train_labels[:15])  # Print first 5 elements for verification\n",
        "\n",
        "# Assuming ER_train_labels contains your training labels\n",
        "class_labels = np.unique(ER_train_labels)\n",
        "class_weights = class_weight.compute_class_weight('balanced', classes=class_labels, y=ER_train_labels)\n",
        "\n",
        "# Convert class weights to a dictionary format\n",
        "class_weight_dict = {i: class_weights[i] for i in range(len(class_labels))}\n"
      ],
      "metadata": {
        "id": "Kk09KDaNgJvs",
        "colab": {
          "base_uri": "https://localhost:8080/"
        },
        "outputId": "518d9c62-65b5-4b7e-cfa1-7303f27c2260"
      },
      "execution_count": 21,
      "outputs": [
        {
          "output_type": "stream",
          "name": "stdout",
          "text": [
            "Number of training samples: 4740\n",
            "Number of training labels: 4740\n",
            "Number of training tags: 4740\n",
            "['very well thanks', 'you know 30 cents may not seem like a lot to you but to a child who is hungry and sick it can mean the difference between life and death', 'hello have you heard of the save a children charity', 'they promote childrens rights and provide much needed relief', 'i am well it looks nice here today as well', 'a cause that you believe in', 'you are donating money you dont even have yet so it is not like you are missing something', 'thats wonderful', 'wish that we could but like all working on mturk we are poor ourselves', 'you can visit url or i can probably arrange to have information mailed to you', 'at all', 'a review of the tax exempt paperwork and financial statements which are available for all tax exempt organizations can help you weed out good from bad', 'there are a few for sure', 'not to mention where are you getting your information', 'when crisis strikes they are always among the first to respond and the last to leave']\n",
            "['other', 'hpos+', 'other', 'spos+', 'other', 'other', 'hpos+', 'hpos+', 'other', 'spos+', 'hpos+', 'spos+', 'other', 'hpos-', 'spos+']\n",
            "[4, 2, 4, 5, 4, 4, 2, 2, 4, 5, 2, 5, 4, 3, 5]\n"
          ]
        }
      ]
    },
    {
      "cell_type": "code",
      "source": [
        "ER_test_tags = []\n",
        "ER_test_labels = []\n",
        "ER_test_texts = []\n",
        "\n",
        "# Iterate over the formatted dataset\n",
        "for item in ER_test_ds:\n",
        "    ER_test_texts.append(item['dialogue'])  # Add the cleaned dialogue to train_text\n",
        "    ER_test_labels.append(item['true_face_id'])  # Add the true_face ID to train_labels\n",
        "    ER_test_tags.append(item['true_face'])  # Add the original true_face to train_tags (optional)\n",
        "\n",
        "# Print out the sizes of the lists\n",
        "print(f\"Number of test samples: {len(ER_test_texts)}\")\n",
        "print(f\"Number of test labels: {len(ER_test_labels)}\")\n",
        "print(f\"Number of test tags: {len(ER_test_tags)}\")\n",
        "\n",
        "# Print the extracted lists (optional)\n",
        "print(ER_test_texts[:5])\n",
        "print(ER_test_tags[:5])  # Print first 5 elements for verification\n",
        "print(ER_test_labels[:5])  # Print first 5 elements for verification"
      ],
      "metadata": {
        "id": "qVHRmCx0nCHJ",
        "colab": {
          "base_uri": "https://localhost:8080/"
        },
        "outputId": "17257fd6-1e78-46f3-aef8-b89cc189b1d3"
      },
      "execution_count": 22,
      "outputs": [
        {
          "output_type": "stream",
          "name": "stdout",
          "text": [
            "Number of test samples: 1186\n",
            "Number of test labels: 1186\n",
            "Number of test tags: 1186\n",
            "['it can be any amount from just 010 to the full payment', 'would you like to donate and save the children', 'for example in the first two months of 2018 a thousand children in syria were injured in the violence there', 'i understand it may not seem like a lot but it can really make a difference', 'its always warm here']\n",
            "['other', 'hneg-', 'other', 'hneg+', 'other']\n",
            "[4, 1, 4, 0, 4]\n"
          ]
        }
      ]
    },
    {
      "cell_type": "markdown",
      "metadata": {
        "id": "m1SmEVYOcwP6"
      },
      "source": [
        "We already have a set aside test set and a train set.  Let's explicitly set aside part of our training set for validation purposes."
      ]
    },
    {
      "cell_type": "code",
      "execution_count": 23,
      "metadata": {
        "id": "H1toWirQAAZ8",
        "colab": {
          "base_uri": "https://localhost:8080/"
        },
        "outputId": "4d75e07d-4168-4be4-b144-b20fd603732f"
      },
      "outputs": [
        {
          "output_type": "stream",
          "name": "stdout",
          "text": [
            "Number of validation samples: 1186\n",
            "Number of validation labels: 1186\n",
            "Number of validation tags: 1186\n",
            "['thats why it does make such a difference to even do small things', 'would you be willing to donate', 'i am good', 'i know and im not really sure if they would deduct any real money', 'thank you for your kind donation']\n",
            "['hneg+', 'hneg-', 'other', 'other', 'hpos+']\n",
            "[0, 1, 4, 4, 2]\n"
          ]
        }
      ],
      "source": [
        "ER_valid_tags = []\n",
        "ER_valid_labels = []\n",
        "ER_valid_texts = []\n",
        "\n",
        "# Iterate over the formatted dataset\n",
        "for item in ER_valid_ds:\n",
        "    ER_valid_texts.append(item['dialogue'])  # Add the cleaned dialogue to train_text\n",
        "    ER_valid_labels.append(item['true_face_id'])  # Add the true_face ID to train_labels\n",
        "    ER_valid_tags.append(item['true_face'])  # Add the original true_face to train_tags (optional)\n",
        "\n",
        "# Print out the sizes of the lists\n",
        "print(f\"Number of validation samples: {len(ER_valid_texts)}\")\n",
        "print(f\"Number of validation labels: {len(ER_valid_labels)}\")\n",
        "print(f\"Number of validation tags: {len(ER_valid_tags)}\")\n",
        "\n",
        "# Print the extracted lists (optional)\n",
        "print(ER_valid_texts[:5])\n",
        "print(ER_valid_tags[:5])  # Print first 5 elements for verification\n",
        "print(ER_valid_labels[:5])  # Print first 5 elements for verification"
      ]
    },
    {
      "cell_type": "code",
      "source": [
        "def sort_dict_by_values(input_dict):\n",
        "\n",
        "    # Create separate sorted lists of the integer tags and the associated labels\n",
        "    # We'll need this for doing analysis of the results of our classifier\n",
        "\n",
        "    items = list(input_dict.items())\n",
        "\n",
        "    items.sort(key=lambda item: int(item[1]))  # Convert values to integers for sorting\n",
        "\n",
        "    sorted_values = [item[1] for item in items]\n",
        "    sorted_keys = [item[0] for item in items]\n",
        "\n",
        "    return sorted_values, sorted_keys  # Return as a tuple\n",
        "\n",
        "# Use the provided sorting function\n",
        "sorted_values, sorted_keys = sort_dict_by_values(true_face_to_id)\n",
        "\n",
        "# Display the results\n",
        "print(\"Sorted True Face IDs:\", sorted_values)\n",
        "print(\"Sorted True Faces:\", sorted_keys)\n",
        "# The variable ''target_names'' stores all of the names of the labels.\n",
        "target_names = sorted_keys\n",
        "print(target_names)"
      ],
      "metadata": {
        "colab": {
          "base_uri": "https://localhost:8080/"
        },
        "id": "qPTA4Q-Thwd3",
        "outputId": "e000f56e-8847-4a51-a164-555ea94f3221"
      },
      "execution_count": 24,
      "outputs": [
        {
          "output_type": "stream",
          "name": "stdout",
          "text": [
            "Sorted True Face IDs: [0, 1, 2, 3, 4, 5]\n",
            "Sorted True Faces: ['hneg+', 'hneg-', 'hpos+', 'hpos-', 'other', 'spos+']\n",
            "['hneg+', 'hneg-', 'hpos+', 'hpos-', 'other', 'spos+']\n"
          ]
        }
      ]
    },
    {
      "cell_type": "markdown",
      "metadata": {
        "id": "d3T5uytRdK7I"
      },
      "source": [
        "Here are the variables we've already defined for the data:\n",
        "\n",
        "* train_texts - an array of text strings for training\n",
        "* test_texts - an array of text strings for testing\n",
        "* valid texts - an array of text strings for validation\n",
        "* train_labels - an array of integers representing the labels associated with train_texts\n",
        "* test_labels - an array of integers representing the labels associated with test_texts\n",
        "* valid_labels - an array of integers representing the labels associated with valid_texts\n",
        "* target_names - an array of label strings that correspond to the integers in the *_labels arrays\n",
        "\n",
        "### 4. Classification with a fine tuned BERT model\n",
        "\n",
        "Let's pick our BERT model.  We'll start with the base BERT model and we'll use the cased version since our data has capital and lower case letters."
      ]
    },
    {
      "cell_type": "code",
      "execution_count": 25,
      "metadata": {
        "id": "zjFWaM2ZnMIC"
      },
      "outputs": [],
      "source": [
        "#make it easier to use a variety of BERT subword models\n",
        "model_checkpoint = 'bert-base-cased'"
      ]
    },
    {
      "cell_type": "code",
      "execution_count": 26,
      "metadata": {
        "id": "-7gV_GUdn9Ck",
        "colab": {
          "base_uri": "https://localhost:8080/",
          "height": 429,
          "referenced_widgets": [
            "3b6152e6a5054193a473ebcb3435652a",
            "39fbf9f359da43be90fdc66b6727c12f",
            "f93661cded924866bc48d0092ac925a8",
            "3ffb613772494b5885c07f7eca6a61d6",
            "f6720a601e934038a5eac6eca01dd6b9",
            "4980d9fb1dad46f18b3ed47be66d7373",
            "64b3ed37a6c446d8ada43dfc081fd055",
            "d5086ebc7a72485ab948727915c02372",
            "dc2da3994b4b43adbb7a0d49512c81e2",
            "46fc96fe0382427c823cbe14f2ffd151",
            "a0ea47f6a1074b28bbd8ea4f87bd5bb1",
            "14880a18e9f444a992a1a5c7af9f27d8",
            "be8825c74556462b85506283a5a9f7d3",
            "aa12efa6c1aa4d9396c76290279d9e56",
            "506f7d4cf4d1464c935f69efd32de039",
            "7b3ea50c82084a9b867c8e358cbe1e4d",
            "17ccf7c1229941cca235f247e1fc09d1",
            "8b41fdc2aab2460e9e77b154c336f56e",
            "7e9e058da0a54f9ca59377349299ef2c",
            "3e1552c942c448e1a08b5bda28ff2144",
            "7cbdbf2e6f7f44cd8a545b4d98fb6160",
            "c4143b3586874250baad93391d577fc5",
            "b20248b63edd4881bf63ffd24b47f13f",
            "2b16979d550c48af84dc1e16d0aa35d7",
            "d0f862db40864779b505829dbc8016c5",
            "9580974798a945b38bb3e864aad3492c",
            "597af6be9e484c47a479e8a2b1250fd8",
            "c5fc816e68e549899d68ef97e9e9a1c2",
            "60f15c6d52a247cea9b82eef43a23212",
            "ac9b57b81c394f4c9f0c6d4ea0b79aa5",
            "2bfcd8317db04c1ca4613ac0cb8f5029",
            "0580a8c865eb4c61b4810d3171eb3e7f",
            "14f85a50bdd349338ed64c4a982cfc4b",
            "6980133fb56c4ce19e9ca2a1eca340cb",
            "70f8947952c3499b96a2a77c13d322ec",
            "8ecf5e70ae1f4c52a4fb2d1962295542",
            "cd9be941c1064100a6ea63b02c65c8e8",
            "4930b855e22e4e5582b93e0132d4a341",
            "096aaffcd8754c558eb591bbe13eeb9b",
            "4a55b5c87c1644069f6ec379bb3bb0a6",
            "e4fb4c909df14a61963ff9a8ba3fe4fd",
            "9fd7ea009265424da5c2c6410fa42cd3",
            "e8e75d5640754edbbdae4099919c7204",
            "48926cc6d65a4cdba7b219490c5e751f",
            "448b9b747a154b9f9ab4ae9d5d8c7df6",
            "3dad1246ffd448378d02bebcf5b7070a",
            "5b46cdb1ad3e437993a14069313102f3",
            "5b238fe5a8b6495fa9fc7af5ef13e18a",
            "932609f82df74e8fbe0fae34141b35d0",
            "b508df87ce944c708d9a9ff896ff6439",
            "35b77a178387430faa8796823d994427",
            "92f2ea4ea7824ec0b7135d6ac6b011b1",
            "b9fbbda3e3814576909bb8cc0345100f",
            "2073d0678cc8407fb085d7d2706f650d",
            "9da0f761a66c42ec88f7f58449ad19e3"
          ]
        },
        "outputId": "ccc2d266-5d29-4d8f-f623-ffcc154cb080"
      },
      "outputs": [
        {
          "output_type": "stream",
          "name": "stderr",
          "text": [
            "/usr/local/lib/python3.10/dist-packages/huggingface_hub/utils/_auth.py:94: UserWarning: \n",
            "The secret `HF_TOKEN` does not exist in your Colab secrets.\n",
            "To authenticate with the Hugging Face Hub, create a token in your settings tab (https://huggingface.co/settings/tokens), set it as secret in your Google Colab and restart your session.\n",
            "You will be able to reuse this secret in all of your notebooks.\n",
            "Please note that authentication is recommended but still optional to access public models or datasets.\n",
            "  warnings.warn(\n"
          ]
        },
        {
          "output_type": "display_data",
          "data": {
            "text/plain": [
              "tokenizer_config.json:   0%|          | 0.00/49.0 [00:00<?, ?B/s]"
            ],
            "application/vnd.jupyter.widget-view+json": {
              "version_major": 2,
              "version_minor": 0,
              "model_id": "3b6152e6a5054193a473ebcb3435652a"
            }
          },
          "metadata": {}
        },
        {
          "output_type": "display_data",
          "data": {
            "text/plain": [
              "vocab.txt:   0%|          | 0.00/213k [00:00<?, ?B/s]"
            ],
            "application/vnd.jupyter.widget-view+json": {
              "version_major": 2,
              "version_minor": 0,
              "model_id": "14880a18e9f444a992a1a5c7af9f27d8"
            }
          },
          "metadata": {}
        },
        {
          "output_type": "display_data",
          "data": {
            "text/plain": [
              "tokenizer.json:   0%|          | 0.00/436k [00:00<?, ?B/s]"
            ],
            "application/vnd.jupyter.widget-view+json": {
              "version_major": 2,
              "version_minor": 0,
              "model_id": "b20248b63edd4881bf63ffd24b47f13f"
            }
          },
          "metadata": {}
        },
        {
          "output_type": "stream",
          "name": "stderr",
          "text": [
            "/usr/local/lib/python3.10/dist-packages/huggingface_hub/file_download.py:797: FutureWarning: `resume_download` is deprecated and will be removed in version 1.0.0. Downloads always resume when possible. If you want to force a new download, use `force_download=True`.\n",
            "  warnings.warn(\n"
          ]
        },
        {
          "output_type": "display_data",
          "data": {
            "text/plain": [
              "config.json:   0%|          | 0.00/570 [00:00<?, ?B/s]"
            ],
            "application/vnd.jupyter.widget-view+json": {
              "version_major": 2,
              "version_minor": 0,
              "model_id": "6980133fb56c4ce19e9ca2a1eca340cb"
            }
          },
          "metadata": {}
        },
        {
          "output_type": "display_data",
          "data": {
            "text/plain": [
              "model.safetensors:   0%|          | 0.00/436M [00:00<?, ?B/s]"
            ],
            "application/vnd.jupyter.widget-view+json": {
              "version_major": 2,
              "version_minor": 0,
              "model_id": "448b9b747a154b9f9ab4ae9d5d8c7df6"
            }
          },
          "metadata": {}
        },
        {
          "output_type": "stream",
          "name": "stderr",
          "text": [
            "Some weights of the PyTorch model were not used when initializing the TF 2.0 model TFBertModel: ['cls.predictions.bias', 'cls.seq_relationship.bias', 'cls.seq_relationship.weight', 'cls.predictions.transform.LayerNorm.weight', 'cls.predictions.transform.dense.weight', 'cls.predictions.transform.LayerNorm.bias', 'cls.predictions.transform.dense.bias']\n",
            "- This IS expected if you are initializing TFBertModel from a PyTorch model trained on another task or with another architecture (e.g. initializing a TFBertForSequenceClassification model from a BertForPreTraining model).\n",
            "- This IS NOT expected if you are initializing TFBertModel from a PyTorch model that you expect to be exactly identical (e.g. initializing a TFBertForSequenceClassification model from a BertForSequenceClassification model).\n",
            "All the weights of TFBertModel were initialized from the PyTorch model.\n",
            "If your task is similar to the task the model of the checkpoint was trained on, you can already use TFBertModel for predictions without further training.\n"
          ]
        }
      ],
      "source": [
        "# Load the DeBERTa v2 tokenizer and model directly from the specified checkpoint\n",
        "bert_tokenizer = BertTokenizer.from_pretrained(model_checkpoint)\n",
        "bert_model = TFBertModel.from_pretrained(model_checkpoint)"
      ]
    },
    {
      "cell_type": "markdown",
      "metadata": {
        "id": "ZJGkIHSHdilH"
      },
      "source": [
        "We're setting our maximum training record length to 200.  "
      ]
    },
    {
      "cell_type": "code",
      "execution_count": 27,
      "metadata": {
        "id": "h_59AaVznMCV"
      },
      "outputs": [],
      "source": [
        "max_length = 200"
      ]
    },
    {
      "cell_type": "markdown",
      "metadata": {
        "id": "n6d54_bqd58L"
      },
      "source": [
        "Now we'll tokenize our three data slices.  This will take a minute or two."
      ]
    },
    {
      "cell_type": "code",
      "source": [
        "ER_train_texts[:2]\n",
        "# Check the type of elements in train_texts\n",
        "print(type(ER_train_texts[0]))"
      ],
      "metadata": {
        "id": "0PmHLXZOospm",
        "colab": {
          "base_uri": "https://localhost:8080/"
        },
        "outputId": "37dd3ac4-2407-45f5-beff-ace5f11f2163"
      },
      "execution_count": 28,
      "outputs": [
        {
          "output_type": "stream",
          "name": "stdout",
          "text": [
            "<class 'str'>\n"
          ]
        }
      ]
    },
    {
      "cell_type": "code",
      "source": [
        "# If train_texts contains elements that are not strings, convert them to strings.\n",
        "# For example, if train_texts contains integers, use:\n",
        "ER_train_texts = [str(text) for text in ER_train_texts]\n",
        "ER_valid_texts = [str(text) for text in ER_valid_texts]\n",
        "ER_test_texts = [str(text) for text in ER_test_texts]\n"
      ],
      "metadata": {
        "id": "346waGsUpffk"
      },
      "execution_count": 29,
      "outputs": []
    },
    {
      "cell_type": "code",
      "execution_count": 30,
      "metadata": {
        "id": "bgv0nftinL6z",
        "colab": {
          "base_uri": "https://localhost:8080/"
        },
        "outputId": "81942297-f6c9-49d3-af8c-88b8e44c6141"
      },
      "outputs": [
        {
          "output_type": "stream",
          "name": "stdout",
          "text": [
            "Train input_ids shape: (4740, 200)\n",
            "Validation input_ids shape: (1186, 200)\n",
            "Test input_ids shape: (1186, 200)\n"
          ]
        }
      ],
      "source": [
        "# tokenize the dataset, truncate at `max_length`,\n",
        "# Tokenize the datasets\n",
        "ER_train_encodings = bert_tokenizer(\n",
        "    ER_train_texts,\n",
        "    truncation=True,\n",
        "    padding='max_length',  # Ensure all are padded to max_length\n",
        "    max_length=200,\n",
        "    return_tensors='tf'\n",
        ")\n",
        "ER_valid_encodings = bert_tokenizer(\n",
        "    ER_valid_texts,\n",
        "    truncation=True,\n",
        "    padding='max_length',\n",
        "    max_length=200,\n",
        "    return_tensors='tf'\n",
        ")\n",
        "ER_test_encodings = bert_tokenizer(\n",
        "    ER_test_texts,\n",
        "    truncation=True,\n",
        "    padding='max_length',\n",
        "    max_length=200,\n",
        "    return_tensors='tf'\n",
        ")\n",
        "\n",
        "# Print shapes to verify\n",
        "print(f\"Train input_ids shape: {ER_train_encodings['input_ids'].shape}\")\n",
        "print(f\"Validation input_ids shape: {ER_valid_encodings['input_ids'].shape}\")\n",
        "print(f\"Test input_ids shape: {ER_test_encodings['input_ids'].shape}\")\n"
      ]
    },
    {
      "cell_type": "markdown",
      "metadata": {
        "id": "2gNS0Fi0emN8"
      },
      "source": [
        "Notice our input_ids for the first training record and their padding. The train_encodings also includes an array of token_type_ids and an attention_mask array."
      ]
    },
    {
      "cell_type": "code",
      "source": [
        "ER_train_encodings"
      ],
      "metadata": {
        "id": "CzQFh7fUqdRI",
        "colab": {
          "base_uri": "https://localhost:8080/"
        },
        "outputId": "adfb95b0-48ac-488d-d2ef-8f8af2d4b77d"
      },
      "execution_count": 31,
      "outputs": [
        {
          "output_type": "execute_result",
          "data": {
            "text/plain": [
              "{'input_ids': <tf.Tensor: shape=(4740, 200), dtype=int32, numpy=\n",
              "array([[  101,  1304,  1218, ...,     0,     0,     0],\n",
              "       [  101,  1128,  1221, ...,     0,     0,     0],\n",
              "       [  101, 19082,  1138, ...,     0,     0,     0],\n",
              "       ...,\n",
              "       [  101,   189,  6131, ...,     0,     0,     0],\n",
              "       [  101,  1921,   178, ...,     0,     0,     0],\n",
              "       [  101,   178,  1267, ...,     0,     0,     0]], dtype=int32)>, 'token_type_ids': <tf.Tensor: shape=(4740, 200), dtype=int32, numpy=\n",
              "array([[0, 0, 0, ..., 0, 0, 0],\n",
              "       [0, 0, 0, ..., 0, 0, 0],\n",
              "       [0, 0, 0, ..., 0, 0, 0],\n",
              "       ...,\n",
              "       [0, 0, 0, ..., 0, 0, 0],\n",
              "       [0, 0, 0, ..., 0, 0, 0],\n",
              "       [0, 0, 0, ..., 0, 0, 0]], dtype=int32)>, 'attention_mask': <tf.Tensor: shape=(4740, 200), dtype=int32, numpy=\n",
              "array([[1, 1, 1, ..., 0, 0, 0],\n",
              "       [1, 1, 1, ..., 0, 0, 0],\n",
              "       [1, 1, 1, ..., 0, 0, 0],\n",
              "       ...,\n",
              "       [1, 1, 1, ..., 0, 0, 0],\n",
              "       [1, 1, 1, ..., 0, 0, 0],\n",
              "       [1, 1, 1, ..., 0, 0, 0]], dtype=int32)>}"
            ]
          },
          "metadata": {},
          "execution_count": 31
        }
      ]
    },
    {
      "cell_type": "code",
      "execution_count": 32,
      "metadata": {
        "id": "XFEXxgAmnLve",
        "colab": {
          "base_uri": "https://localhost:8080/"
        },
        "outputId": "30dd4e80-265d-4bbd-86df-d4ae0c77fbb2"
      },
      "outputs": [
        {
          "output_type": "execute_result",
          "data": {
            "text/plain": [
              "<tf.Tensor: shape=(200,), dtype=int32, numpy=\n",
              "array([ 101, 3277, 1103, 1482, 6618, 1482, 1155, 1213, 1103, 1362, 1105,\n",
              "       1152, 1444, 1240, 1494,  102,    0,    0,    0,    0,    0,    0,\n",
              "          0,    0,    0,    0,    0,    0,    0,    0,    0,    0,    0,\n",
              "          0,    0,    0,    0,    0,    0,    0,    0,    0,    0,    0,\n",
              "          0,    0,    0,    0,    0,    0,    0,    0,    0,    0,    0,\n",
              "          0,    0,    0,    0,    0,    0,    0,    0,    0,    0,    0,\n",
              "          0,    0,    0,    0,    0,    0,    0,    0,    0,    0,    0,\n",
              "          0,    0,    0,    0,    0,    0,    0,    0,    0,    0,    0,\n",
              "          0,    0,    0,    0,    0,    0,    0,    0,    0,    0,    0,\n",
              "          0,    0,    0,    0,    0,    0,    0,    0,    0,    0,    0,\n",
              "          0,    0,    0,    0,    0,    0,    0,    0,    0,    0,    0,\n",
              "          0,    0,    0,    0,    0,    0,    0,    0,    0,    0,    0,\n",
              "          0,    0,    0,    0,    0,    0,    0,    0,    0,    0,    0,\n",
              "          0,    0,    0,    0,    0,    0,    0,    0,    0,    0,    0,\n",
              "          0,    0,    0,    0,    0,    0,    0,    0,    0,    0,    0,\n",
              "          0,    0,    0,    0,    0,    0,    0,    0,    0,    0,    0,\n",
              "          0,    0,    0,    0,    0,    0,    0,    0,    0,    0,    0,\n",
              "          0,    0,    0,    0,    0,    0,    0,    0,    0,    0,    0,\n",
              "          0,    0], dtype=int32)>"
            ]
          },
          "metadata": {},
          "execution_count": 32
        }
      ],
      "source": [
        "ER_train_encodings.input_ids[15]"
      ]
    },
    {
      "cell_type": "markdown",
      "metadata": {
        "id": "23lwfDw2T6gI"
      },
      "source": [
        "### 4.1 Create a Model\n",
        "\n",
        "\n"
      ]
    },
    {
      "cell_type": "code",
      "execution_count": 33,
      "metadata": {
        "id": "RtWMrLi4tIun"
      },
      "outputs": [],
      "source": [
        "def create_bert_multiclass_model(checkpoint = model_checkpoint,\n",
        "                                 num_classes = 6,\n",
        "                                 hidden_size = 201,\n",
        "                                 dropout=0.3,\n",
        "                                 learning_rate=0.00006):\n",
        "    \"\"\"\n",
        "    Build a multiclass classification model using BERT with a custom hidden layer.\n",
        "\n",
        "    Arguments:\n",
        "    - checkpoint: The pre-trained BERT model checkpoint.\n",
        "    - num_classes: Number of output classes for classification.\n",
        "    - hidden_size: Size of the hidden layer.\n",
        "    - dropout: Dropout rate for regularization.\n",
        "    - learning_rate: Learning rate for optimization.\n",
        "\n",
        "    Returns:\n",
        "    - A compiled TensorFlow Keras model ready for training.\n",
        "    \"\"\"\n",
        "    # Define the input layers for token IDs, attention masks, and segment IDs\n",
        "    input_ids = tf.keras.layers.Input(shape=(200,), dtype=tf.int32, name='input_ids')\n",
        "    attention_mask = tf.keras.layers.Input(shape=(200,), dtype=tf.int32, name='attention_mask')\n",
        "    token_type_ids = tf.keras.layers.Input(shape=(200,), dtype=tf.int32, name='token_type_ids')  # Added token_type_ids\n",
        "\n",
        "    # Pass the inputs through the BERT model\n",
        "    bert_outputs = bert_model(input_ids=input_ids, attention_mask=attention_mask, token_type_ids=token_type_ids)\n",
        "\n",
        "    # Use the pooler_output for classification (CLS token's embedding)\n",
        "    pooler_output = bert_outputs.pooler_output\n",
        "\n",
        "    # Add a hidden dense layer with the specified size\n",
        "    hidden_layer = tf.keras.layers.Dense(hidden_size, activation='relu')(pooler_output)\n",
        "\n",
        "    # Apply dropout for regularization\n",
        "    dropout_layer = tf.keras.layers.Dropout(dropout)(hidden_layer)\n",
        "\n",
        "    # Classification layer for multi-class output, using softmax activation\n",
        "    output_layer = tf.keras.layers.Dense(num_classes, activation='softmax')(dropout_layer)\n",
        "\n",
        "    # Define the model\n",
        "    classification_model = tf.keras.Model(inputs=[input_ids, attention_mask, token_type_ids], outputs=output_layer)\n",
        "\n",
        "    # Compile the model with SparseCategoricalCrossentropy (for single-label multi-class classification)\n",
        "    #classification_model.compile(optimizer=tf.keras.optimizers.Adam(learning_rate=learning_rate),\n",
        "                                  #loss=tf.keras.losses.SparseCategoricalCrossentropy(from_logits=False),\n",
        "                                  #metrics=['accuracy'])\n",
        "\n",
        "    classification_model.compile(optimizer=tf.keras.optimizers.Adam(learning_rate=0.00006, clipnorm=0.5),  # Adding gradient clipping\n",
        "                                 loss=tf.keras.losses.SparseCategoricalCrossentropy(from_logits=False),\n",
        "                                 metrics=['accuracy'])\n",
        "\n",
        "    return classification_model"
      ]
    },
    {
      "cell_type": "code",
      "execution_count": 34,
      "metadata": {
        "id": "uR-Id158tIlH"
      },
      "outputs": [],
      "source": [
        "pooler_bert_model = create_bert_multiclass_model(checkpoint=model_checkpoint, num_classes=6)"
      ]
    },
    {
      "cell_type": "code",
      "execution_count": 35,
      "metadata": {
        "id": "bMxpO16-tIaE",
        "colab": {
          "base_uri": "https://localhost:8080/"
        },
        "outputId": "5f97e71a-bb78-4218-bbeb-94ad0f25b588"
      },
      "outputs": [
        {
          "output_type": "stream",
          "name": "stdout",
          "text": [
            "Model: \"model\"\n",
            "__________________________________________________________________________________________________\n",
            " Layer (type)                Output Shape                 Param #   Connected to                  \n",
            "==================================================================================================\n",
            " input_ids (InputLayer)      [(None, 200)]                0         []                            \n",
            "                                                                                                  \n",
            " attention_mask (InputLayer  [(None, 200)]                0         []                            \n",
            " )                                                                                                \n",
            "                                                                                                  \n",
            " token_type_ids (InputLayer  [(None, 200)]                0         []                            \n",
            " )                                                                                                \n",
            "                                                                                                  \n",
            " tf_bert_model (TFBertModel  TFBaseModelOutputWithPooli   1083102   ['input_ids[0][0]',           \n",
            " )                           ngAndCrossAttentions(last_   72         'attention_mask[0][0]',      \n",
            "                             hidden_state=(None, 200, 7              'token_type_ids[0][0]']      \n",
            "                             68),                                                                 \n",
            "                              pooler_output=(None, 768)                                           \n",
            "                             , past_key_values=None, hi                                           \n",
            "                             dden_states=None, attentio                                           \n",
            "                             ns=None, cross_attentions=                                           \n",
            "                             None)                                                                \n",
            "                                                                                                  \n",
            " dense (Dense)               (None, 201)                  154569    ['tf_bert_model[0][1]']       \n",
            "                                                                                                  \n",
            " dropout_37 (Dropout)        (None, 201)                  0         ['dense[0][0]']               \n",
            "                                                                                                  \n",
            " dense_1 (Dense)             (None, 6)                    1212      ['dropout_37[0][0]']          \n",
            "                                                                                                  \n",
            "==================================================================================================\n",
            "Total params: 108466053 (413.77 MB)\n",
            "Trainable params: 108466053 (413.77 MB)\n",
            "Non-trainable params: 0 (0.00 Byte)\n",
            "__________________________________________________________________________________________________\n"
          ]
        }
      ],
      "source": [
        "pooler_bert_model.summary()"
      ]
    },
    {
      "cell_type": "code",
      "execution_count": 36,
      "metadata": {
        "id": "xe3tTWX6FVZL",
        "colab": {
          "base_uri": "https://localhost:8080/",
          "height": 438
        },
        "outputId": "ebbdd65c-f2c0-4072-d3ba-2495d0c9f4be"
      },
      "outputs": [
        {
          "output_type": "execute_result",
          "data": {
            "image/png": "[encoded data removed]",
            "text/plain": [
              "<IPython.core.display.Image object>"
            ]
          },
          "metadata": {},
          "execution_count": 36
        }
      ],
      "source": [
        "keras.utils.plot_model(pooler_bert_model, show_shapes=False, show_dtype=False, show_layer_names=True, dpi=90)"
      ]
    },
    {
      "cell_type": "code",
      "source": [
        "print(\"Unique labels in training set:\", np.unique(ER_train_labels))\n",
        "print(\"Unique labels in validation set:\", np.unique(ER_valid_labels))"
      ],
      "metadata": {
        "colab": {
          "base_uri": "https://localhost:8080/"
        },
        "id": "QcCRcr_V2Dy_",
        "outputId": "6d2423dd-2569-4d2b-b880-04215d66546f"
      },
      "execution_count": 37,
      "outputs": [
        {
          "output_type": "stream",
          "name": "stdout",
          "text": [
            "Unique labels in training set: [0 1 2 3 4 5]\n",
            "Unique labels in validation set: [0 1 2 3 4 5]\n"
          ]
        }
      ]
    },
    {
      "cell_type": "markdown",
      "source": [
        "### 4.2 Train the base Model"
      ],
      "metadata": {
        "id": "hhd1IMBEAiHa"
      }
    },
    {
      "cell_type": "code",
      "execution_count": 38,
      "metadata": {
        "id": "aLLjb3mOtICy",
        "colab": {
          "base_uri": "https://localhost:8080/"
        },
        "outputId": "6789a978-4a73-4886-c4bb-de1ba6cb5603"
      },
      "outputs": [
        {
          "output_type": "stream",
          "name": "stdout",
          "text": [
            "593/593 [==============================] - 316s 411ms/step - loss: 1.1234 - accuracy: 0.5726 - val_loss: 0.9731 - val_accuracy: 0.6324\n"
          ]
        }
      ],
      "source": [
        "# Convert train_labels and val_labels to NumPy arrays if they are not already\n",
        "ER_train_labels = np.array(ER_train_labels, dtype=np.int32)\n",
        "ER_valid_labels = np.array(ER_valid_labels, dtype=np.int32)\n",
        "\n",
        "pooler_bert_model_history = pooler_bert_model.fit([ER_train_encodings.input_ids, ER_train_encodings.token_type_ids, ER_train_encodings.attention_mask],\n",
        "                                                  ER_train_labels,\n",
        "                                                  validation_data=([ER_valid_encodings.input_ids, ER_valid_encodings.token_type_ids, ER_valid_encodings.attention_mask],\n",
        "                                                  ER_valid_labels),\n",
        "                                                  batch_size=8,\n",
        "                                                  epochs=1)"
      ]
    },
    {
      "cell_type": "markdown",
      "source": [],
      "metadata": {
        "id": "z9JpbWthAdpg"
      }
    },
    {
      "cell_type": "markdown",
      "source": [
        "### 4.3 Class Weights to Mitigate Class Imbalance"
      ],
      "metadata": {
        "id": "X3OurUCSAoBC"
      }
    },
    {
      "cell_type": "code",
      "source": [
        "class_weights = class_weight.compute_class_weight(\n",
        "    class_weight='balanced',\n",
        "    classes=np.unique(ER_train_labels),\n",
        "    y=ER_train_labels\n",
        ")\n",
        "\n",
        "# Convert class weights to a dictionary\n",
        "class_weight_dict = {i: weight for i, weight in enumerate(class_weights)}\n",
        "\n",
        "# Fit the model with class weights\n",
        "pooler_bert_model_history = pooler_bert_model.fit(\n",
        "    [ER_train_encodings.input_ids, ER_train_encodings.token_type_ids, ER_train_encodings.attention_mask],\n",
        "    ER_train_labels,\n",
        "    validation_data=(\n",
        "        [ER_valid_encodings.input_ids, ER_valid_encodings.token_type_ids, ER_valid_encodings.attention_mask],\n",
        "        ER_valid_labels\n",
        "    ),\n",
        "    batch_size=32,\n",
        "    epochs=5,\n",
        "    class_weight=class_weight_dict  # Include class weights here\n",
        ")"
      ],
      "metadata": {
        "colab": {
          "base_uri": "https://localhost:8080/"
        },
        "id": "7XNDxpsMAWbK",
        "outputId": "f6cee5f0-fe62-42f8-f4db-3af847825d80"
      },
      "execution_count": 39,
      "outputs": [
        {
          "output_type": "stream",
          "name": "stdout",
          "text": [
            "Epoch 1/5\n",
            "149/149 [==============================] - 229s 1s/step - loss: 1.0919 - accuracy: 0.7456 - val_loss: 1.0065 - val_accuracy: 0.6551\n",
            "Epoch 2/5\n",
            "149/149 [==============================] - 208s 1s/step - loss: 0.8244 - accuracy: 0.7838 - val_loss: 0.9069 - val_accuracy: 0.6821\n",
            "Epoch 3/5\n",
            "149/149 [==============================] - 208s 1s/step - loss: 0.5836 - accuracy: 0.8302 - val_loss: 1.0739 - val_accuracy: 0.6771\n",
            "Epoch 4/5\n",
            "149/149 [==============================] - 208s 1s/step - loss: 0.3446 - accuracy: 0.8646 - val_loss: 1.0889 - val_accuracy: 0.6939\n",
            "Epoch 5/5\n",
            "149/149 [==============================] - 208s 1s/step - loss: 0.2504 - accuracy: 0.9004 - val_loss: 1.1647 - val_accuracy: 0.6906\n"
          ]
        }
      ]
    },
    {
      "cell_type": "markdown",
      "metadata": {
        "id": "rdHlOd4LJUOH"
      },
      "source": [
        "Now we need to run evaluate against our fine-tuned model.  This will give us an overall accuracy based on the test set."
      ]
    },
    {
      "cell_type": "markdown",
      "source": [
        "### 4.4 Evaluate the model on the ER Test set"
      ],
      "metadata": {
        "id": "kd1xY-HoIrFq"
      }
    },
    {
      "cell_type": "code",
      "execution_count": 40,
      "metadata": {
        "id": "dPQn2tJPEGdU",
        "colab": {
          "base_uri": "https://localhost:8080/"
        },
        "outputId": "171e7248-a65f-4d1b-f476-3bdbe4be7ce6"
      },
      "outputs": [
        {
          "output_type": "stream",
          "name": "stdout",
          "text": [
            "38/38 [==============================] - 25s 410ms/step - loss: 0.4128 - accuracy: 0.8777\n",
            "Test loss: 0.41276657581329346\n",
            "Test accuracy: 0.8777403235435486\n"
          ]
        }
      ],
      "source": [
        "ER_test_labels = np.array(ER_test_labels)\n",
        "# Evaluate the model\n",
        "score = pooler_bert_model.evaluate([ER_test_encodings.input_ids, ER_test_encodings.token_type_ids, ER_test_encodings.attention_mask],\n",
        "                                                  ER_test_labels)\n",
        "\n",
        "print('Test loss:', score[0])\n",
        "print('Test accuracy:', score[1])"
      ]
    },
    {
      "cell_type": "code",
      "execution_count": 41,
      "metadata": {
        "id": "NS7Gp_IYEiJ_",
        "colab": {
          "base_uri": "https://localhost:8080/"
        },
        "outputId": "f8685cf2-8cca-4300-e7a9-ec6a3517252a"
      },
      "outputs": [
        {
          "output_type": "stream",
          "name": "stdout",
          "text": [
            "38/38 [==============================] - 25s 412ms/step\n"
          ]
        }
      ],
      "source": [
        "#run predict for the first three elements in the test data set\n",
        "predictions = pooler_bert_model.predict([\n",
        "    ER_test_encodings.input_ids,\n",
        "    ER_test_encodings.token_type_ids,\n",
        "    ER_test_encodings.attention_mask\n",
        "])\n"
      ]
    },
    {
      "cell_type": "markdown",
      "source": [
        "### 4.5 Generate the classification Report"
      ],
      "metadata": {
        "id": "RZ2RG4zQIzTy"
      }
    },
    {
      "cell_type": "code",
      "execution_count": 42,
      "metadata": {
        "id": "ymGM8QnpchnC",
        "colab": {
          "base_uri": "https://localhost:8080/"
        },
        "outputId": "4a0d09cb-4895-4e8a-ab83-439b75b07e3a"
      },
      "outputs": [
        {
          "output_type": "stream",
          "name": "stdout",
          "text": [
            "Predictions shape: (1186, 6)\n",
            "              precision    recall  f1-score   support\n",
            "\n",
            "       hneg+       0.67      0.88      0.76        69\n",
            "       hneg-       0.88      0.95      0.91       128\n",
            "       hpos+       0.88      0.92      0.90       250\n",
            "       hpos-       0.76      0.84      0.80        19\n",
            "       other       0.94      0.81      0.87       497\n",
            "       spos+       0.85      0.94      0.89       223\n",
            "\n",
            "    accuracy                           0.88      1186\n",
            "   macro avg       0.83      0.89      0.86      1186\n",
            "weighted avg       0.89      0.88      0.88      1186\n",
            "\n"
          ]
        }
      ],
      "source": [
        "print(\"Predictions shape:\", predictions.shape)\n",
        "# we need to get the highest probability in the distribution for each prediction\n",
        "predicted_classes = tf.argmax(predictions, axis=-1)\n",
        "\n",
        "# Convert predicted_classes to a NumPy array\n",
        "predicted_classes = predicted_classes.numpy()\n",
        "\n",
        "# Generate the classification report\n",
        "print(classification_report(ER_test_labels, predicted_classes, target_names=target_names))"
      ]
    },
    {
      "cell_type": "code",
      "execution_count": 43,
      "metadata": {
        "id": "udwdL6iKEh7b"
      },
      "outputs": [],
      "source": [
        "cm = tf.math.confusion_matrix(ER_test_labels, predicted_classes)\n",
        "cm = cm/cm.numpy().sum(axis=1)[:, tf.newaxis]"
      ]
    },
    {
      "cell_type": "markdown",
      "metadata": {
        "id": "_9YL2AlQOY4Y"
      },
      "source": [
        "And now we'll display it!"
      ]
    },
    {
      "cell_type": "markdown",
      "source": [
        "### 4.6 Plot a confusion Matrix"
      ],
      "metadata": {
        "id": "kwsi0OHSI4Nt"
      }
    },
    {
      "cell_type": "code",
      "execution_count": 44,
      "metadata": {
        "id": "gh0Bxg-8EhzZ",
        "colab": {
          "base_uri": "https://localhost:8080/",
          "height": 607
        },
        "outputId": "00146da1-e7c4-4871-94f9-26830bb37432"
      },
      "outputs": [
        {
          "output_type": "execute_result",
          "data": {
            "text/plain": [
              "Text(220.72222222222223, 0.5, 'True')"
            ]
          },
          "metadata": {},
          "execution_count": 44
        },
        {
          "output_type": "display_data",
          "data": {
            "text/plain": [
              "<Figure size 2000x700 with 2 Axes>"
            ],
            "image/png": "[encoded data removed]"
          },
          "metadata": {}
        }
      ],
      "source": [
        "plt.figure(figsize=(20,7))\n",
        "sns.heatmap(\n",
        "    cm, annot=True,\n",
        "    xticklabels=target_names,\n",
        "    yticklabels=target_names)\n",
        "plt.xlabel(\"Predicted\")\n",
        "plt.ylabel(\"True\")"
      ]
    },
    {
      "cell_type": "markdown",
      "source": [
        "### 5. Format the EE Dataset"
      ],
      "metadata": {
        "id": "WL23HWPEJUfb"
      }
    },
    {
      "cell_type": "code",
      "execution_count": 45,
      "metadata": {
        "id": "r0jHs1u8Mxlk",
        "colab": {
          "base_uri": "https://localhost:8080/"
        },
        "outputId": "f0c407ff-4d68-42be-fc60-2a7e71eca46a"
      },
      "outputs": [
        {
          "output_type": "stream",
          "name": "stdout",
          "text": [
            "{'speaker': ['EE', 'EE', 'EE', 'EE', 'EE'], 'dialogue': ['i think i have once before in a grocery store i believe', 'sure go ahead', 'are they a non profit organization', 'oh wow shocking news', 'do you know how many children have been helped due to this organization'], 'true_face_id': [1, 1, 0, 1, 0], 'true_face': ['hpos+', 'hpos+', 'hneg-', 'hpos+', 'hneg-']}\n",
            "{'hneg-': 0, 'hpos+': 1, 'hpos-': 2, 'other': 3, 'sneg+': 4, 'spos+': 5, 'spos-': 6}\n"
          ]
        }
      ],
      "source": [
        "# Function to clean dialogue\n",
        "def clean_dialogue(dialogue):\n",
        "    if isinstance(dialogue, str):  # Ensure the input is a string\n",
        "        # Lowercase\n",
        "        dialogue = dialogue.lower()\n",
        "        # Remove punctuation\n",
        "        dialogue = re.sub(r'[^\\w\\s]', '', dialogue)\n",
        "        # Strip whitespace\n",
        "        dialogue = dialogue.strip()\n",
        "        return dialogue\n",
        "    else:\n",
        "        return \"\"  # Return an empty string or handle as you prefer\n",
        "\n",
        "cleaned_data = []\n",
        "EE_formatted_ds = []\n",
        "true_face_labels = set()  # To collect unique true_face labels\n",
        "\n",
        "# Use iterrows() to iterate through the DataFrame\n",
        "for index, row in EE_dataset.iterrows():\n",
        "    speaker = row['speaker']\n",
        "    utterance = row['utterance']\n",
        "    true_face = row['true_face']\n",
        "\n",
        "    # Clean the utterance\n",
        "    cleaned_utterance = clean_dialogue(utterance)\n",
        "\n",
        "    # Collect unique true_face labels\n",
        "    true_face_labels.add(true_face)\n",
        "\n",
        "    # Append the speaker and cleaned utterance to the formatted data\n",
        "    EE_formatted_ds.append({\n",
        "        'speaker': f\"{speaker}\",\n",
        "        'dialogue': cleaned_utterance,  # Store cleaned dialogue\n",
        "        'true_face': true_face  # Keep original true_face for now\n",
        "    })\n",
        "\n",
        "# Create a mapping from true_face labels to IDs\n",
        "sorted_labels = sorted(label for label in true_face_labels)\n",
        "\n",
        "# Create a mapping from sorted labels to IDs\n",
        "true_face_to_id = {label: idx for idx, label in enumerate(sorted_labels)}\n",
        "\n",
        "# Create a new Dataset from the formatted data and convert labels to IDs\n",
        "EE_formatted_ds = Dataset.from_dict({\n",
        "    'speaker': [entry['speaker'] for entry in EE_formatted_ds],\n",
        "    'dialogue': [entry['dialogue'] for entry in EE_formatted_ds],\n",
        "    'true_face_id': [true_face_to_id[entry['true_face']] for entry in EE_formatted_ds],  # Converts true_face to ID\n",
        "    'true_face': [entry['true_face'] for entry in EE_formatted_ds]  # Keeps the original true_face\n",
        "})\n",
        "\n",
        "# Display first 100 entries of the formatted dataset\n",
        "print(EE_formatted_ds[:5])\n",
        "# Print the mapping of true_face labels to IDs\n",
        "print(true_face_to_id)"
      ]
    },
    {
      "cell_type": "markdown",
      "source": [
        "### 5.1 Explore the EE Dataset"
      ],
      "metadata": {
        "id": "pCLQXT-CJ70l"
      }
    },
    {
      "cell_type": "code",
      "source": [
        "EE_df = pd.DataFrame(EE_formatted_ds)\n",
        "# Count occurrences of each true_face label\n",
        "true_face_counts = EE_df['true_face'].value_counts()\n",
        "\n",
        "# Plot the distribution\n",
        "plt.figure(figsize=(10, 5))\n",
        "true_face_counts.plot(kind='bar')\n",
        "plt.title('Persuader Distribution of True Face Labels')\n",
        "plt.xlabel('True Face Labels')\n",
        "plt.ylabel('Count')\n",
        "plt.xticks(rotation=45)\n",
        "plt.show()\n",
        "\n",
        "# Get unique values and their counts from the 'true_face' column in ER_ds\n",
        "true_face_counts = EE_df['true_face'].value_counts()\n",
        "\n",
        "# Convert the counts to a dictionary if needed\n",
        "true_face_counts_dict = true_face_counts.to_dict()\n",
        "\n",
        "# Print the unique values and their counts\n",
        "print(true_face_counts)  # This will display the counts in descending order"
      ],
      "metadata": {
        "colab": {
          "base_uri": "https://localhost:8080/",
          "height": 676
        },
        "id": "YbyEDEUDJ8qq",
        "outputId": "eac22d85-adda-417b-b534-4c1690b63b70"
      },
      "execution_count": 46,
      "outputs": [
        {
          "output_type": "display_data",
          "data": {
            "text/plain": [
              "<Figure size 1000x500 with 1 Axes>"
            ],
            "image/png": "[encoded data removed]"
          },
          "metadata": {}
        },
        {
          "output_type": "stream",
          "name": "stdout",
          "text": [
            "true_face\n",
            "other    1832\n",
            "hpos+    1567\n",
            "hneg-     480\n",
            "spos+     368\n",
            "hpos-     272\n",
            "sneg+     259\n",
            "spos-      12\n",
            "Name: count, dtype: int64\n"
          ]
        }
      ]
    },
    {
      "cell_type": "markdown",
      "source": [
        "### 5.2 Split the EE Dataset into Train, Validation and Test datasets"
      ],
      "metadata": {
        "id": "5fyNYsrRKNwk"
      }
    },
    {
      "cell_type": "code",
      "source": [
        "# Shuffle the dataset\n",
        "EE_ds_shuffled = EE_formatted_ds.shuffle(seed=42)\n",
        "\n",
        "# Split the dataset into training and testing sets\n",
        "EE_train_ds, EE_test_ds = EE_formatted_ds.train_test_split(test_size=0.2).values()\n",
        "\n",
        "# Split the dataset into training and validation sets (80% train, 20% validation)\n",
        "EE_train_ds, EE_valid_ds = EE_formatted_ds.train_test_split(test_size=0.2).values()\n",
        "\n",
        "# Display the sizes of the splits\n",
        "print(f\"Train size: {len(EE_train_ds)}, Validation size: {len(EE_valid_ds)}, Test size: {len(EE_test_ds)}\")\n",
        "\n",
        "print(EE_train_ds[0])\n",
        "print(EE_valid_ds[0])\n",
        "print(EE_test_ds[0])"
      ],
      "metadata": {
        "colab": {
          "base_uri": "https://localhost:8080/"
        },
        "id": "Um71YeHPKSWc",
        "outputId": "7aaa7656-cc47-4419-b864-790b351b236a"
      },
      "execution_count": 47,
      "outputs": [
        {
          "output_type": "stream",
          "name": "stdout",
          "text": [
            "Train size: 3832, Validation size: 958, Test size: 958\n",
            "{'speaker': 'EE', 'dialogue': 'i think i will donate one cent', 'true_face_id': 1, 'true_face': 'hpos+'}\n",
            "{'speaker': 'EE', 'dialogue': 'haha', 'true_face_id': 3, 'true_face': 'other'}\n",
            "{'speaker': 'EE', 'dialogue': 'wow that definitely puts it in perspective', 'true_face_id': 1, 'true_face': 'hpos+'}\n"
          ]
        }
      ]
    },
    {
      "cell_type": "markdown",
      "source": [
        "### 6.1 Generate Text, Tag and Labels from the Datasets"
      ],
      "metadata": {
        "id": "Nn6WMpxwLDlo"
      }
    },
    {
      "cell_type": "code",
      "source": [
        "EE_train_tags = []\n",
        "EE_train_labels = []\n",
        "EE_train_texts = []\n",
        "\n",
        "# Iterate over the formatted dataset\n",
        "for item in EE_train_ds:\n",
        "    EE_train_texts.append(item['dialogue'])  # Add the cleaned dialogue to train_text\n",
        "    EE_train_labels.append(item['true_face_id'])  # Add the true_face ID to train_labels\n",
        "    EE_train_tags.append(item['true_face'])  # Add the original true_face to train_tags (optional)\n",
        "\n",
        "# Print out the sizes of the lists\n",
        "print(f\"Number of training samples: {len(EE_train_texts)}\")\n",
        "print(f\"Number of training labels: {len(EE_train_labels)}\")\n",
        "print(f\"Number of training tags: {len(EE_train_tags)}\")\n",
        "\n",
        "# Print the extracted lists (optional)\n",
        "print(EE_train_texts[:15])\n",
        "print(EE_train_tags[:15])  # Print first 5 elements for verification\n",
        "print(EE_train_labels[:15])  # Print first 5 elements for verification"
      ],
      "metadata": {
        "colab": {
          "base_uri": "https://localhost:8080/"
        },
        "id": "oUz2nXo3LLeG",
        "outputId": "3c1f328b-4aa0-44d7-ab5d-f85e291d69a0"
      },
      "execution_count": 48,
      "outputs": [
        {
          "output_type": "stream",
          "name": "stdout",
          "text": [
            "Number of training samples: 3832\n",
            "Number of training labels: 3832\n",
            "Number of training tags: 3832\n",
            "['i think i will donate one cent', 'i have considered donating to st jude also because they provide life saving medical care', 'i would', 'could i pledge 1day to start with', 'yes i have', 'what do you like most about this group', 'no problem thank you for telling me about this wonderful charity', 'children should be our top priority all across the world', 'i would do anything to protect my son', 'i am so sorry to hear about the little guy and how his birthday too', 'how much do they recommend you donate', 'are you planning to donate today', 'do you make donations on line or mail it in', 'mmmm that is interesting i did not know that statistic', 'i recognize it too']\n",
            "['hpos+', 'other', 'hpos+', 'hpos+', 'hpos+', 'other', 'hpos+', 'other', 'other', 'hpos+', 'other', 'other', 'hneg-', 'other', 'hpos+']\n",
            "[1, 3, 1, 1, 1, 3, 1, 3, 3, 1, 3, 3, 0, 3, 1]\n"
          ]
        }
      ]
    },
    {
      "cell_type": "code",
      "source": [
        "EE_test_tags = []\n",
        "EE_test_labels = []\n",
        "EE_test_texts = []\n",
        "\n",
        "# Iterate over the formatted dataset\n",
        "for item in EE_test_ds:\n",
        "    EE_test_texts.append(item['dialogue'])  # Add the cleaned dialogue to train_text\n",
        "    EE_test_labels.append(item['true_face_id'])  # Add the true_face ID to train_labels\n",
        "    EE_test_tags.append(item['true_face'])  # Add the original true_face to train_tags (optional)\n",
        "\n",
        "# Print out the sizes of the lists\n",
        "print(f\"Number of training samples: {len(EE_test_texts)}\")\n",
        "print(f\"Number of training labels: {len(EE_test_labels)}\")\n",
        "print(f\"Number of training tags: {len(EE_test_tags)}\")\n",
        "\n",
        "# Print the extracted lists (optional)\n",
        "print(EE_test_texts[:15])\n",
        "print(EE_test_tags[:15])  # Print first 5 elements for verification\n",
        "print(EE_test_labels[:15])  # Print first 5 elements for verification\n",
        "\n"
      ],
      "metadata": {
        "colab": {
          "base_uri": "https://localhost:8080/"
        },
        "id": "Wjvb-5nULVvb",
        "outputId": "fb7ce062-aeab-4ff2-ad1e-867a36489eaa"
      },
      "execution_count": 49,
      "outputs": [
        {
          "output_type": "stream",
          "name": "stdout",
          "text": [
            "Number of training samples: 958\n",
            "Number of training labels: 958\n",
            "Number of training tags: 958\n",
            "['wow that definitely puts it in perspective', 'its the reason i go to work everyday', 'oh thats totally awesome', 'i wouldnt have the time off to do that', 'do i need to do anything else to make sure i get the money donated', 'i will have to read up more about the organization before i just give my money up because there is fake charities in the world', 'what sort of assistance do they offer specifically', 'cant complain youreslf', 'where does the other percentage of donations go', 'it is sad i agree with you', 'id donate more but i dont have much myself', 'how has save the children helped to aid in health education and safety of the syrian children', 'do you have kids', 'why is that', 'i have been to third world countries in south america and seeing the living conditions of some people is very tough']\n",
            "['hpos+', 'spos+', 'hpos+', 'other', 'other', 'sneg+', 'hneg-', 'other', 'hneg-', 'hpos+', 'sneg+', 'hneg-', 'other', 'other', 'other']\n",
            "[1, 5, 1, 3, 3, 4, 0, 3, 0, 1, 4, 0, 3, 3, 3]\n"
          ]
        }
      ]
    },
    {
      "cell_type": "code",
      "source": [
        "EE_valid_tags = []\n",
        "EE_valid_labels = []\n",
        "EE_valid_texts = []\n",
        "\n",
        "# Iterate over the formatted dataset\n",
        "for item in EE_valid_ds:\n",
        "    EE_valid_texts.append(item['dialogue'])  # Add the cleaned dialogue to train_text\n",
        "    EE_valid_labels.append(item['true_face_id'])  # Add the true_face ID to train_labels\n",
        "    EE_valid_tags.append(item['true_face'])  # Add the original true_face to train_tags (optional)\n",
        "\n",
        "# Print out the sizes of the lists\n",
        "print(f\"Number of training samples: {len(EE_valid_texts)}\")\n",
        "print(f\"Number of training labels: {len(EE_valid_labels)}\")\n",
        "print(f\"Number of training tags: {len(EE_valid_tags)}\")\n",
        "\n",
        "# Print the extracted lists (optional)\n",
        "print(EE_valid_texts[:15])\n",
        "print(EE_valid_tags[:15])  # Print first 5 elements for verification\n",
        "print(EE_valid_labels[:15])  # Print first 5 elements for verification"
      ],
      "metadata": {
        "colab": {
          "base_uri": "https://localhost:8080/"
        },
        "id": "dYtlikJKLwFU",
        "outputId": "dd28e025-fc17-4699-f032-feac24a1b4a3"
      },
      "execution_count": 50,
      "outputs": [
        {
          "output_type": "stream",
          "name": "stdout",
          "text": [
            "Number of training samples: 958\n",
            "Number of training labels: 958\n",
            "Number of training tags: 958\n",
            "['haha', 'if only the governments and politicians of the world would stop fighting and actually work toward that goal', 'we have to walk early and late', 'good choice', 'yeah  all good things', 'oh wow i would also be interested in donating to that', 'i do not', 'i am all for helping children in any way possible', 'ok  so can i donate 20', 'i havent is that a charity', 'ok will check it out', 'maybe 050', 'yeah i agree', 'i agree its for a good cause', 'wow that is neat']\n",
            "['other', 'other', 'other', 'other', 'hpos+', 'spos+', 'other', 'spos+', 'hpos+', 'hpos-', 'other', 'hpos+', 'hpos+', 'hpos+', 'hpos+']\n",
            "[3, 3, 3, 3, 1, 5, 3, 5, 1, 2, 3, 1, 1, 1, 1]\n"
          ]
        }
      ]
    },
    {
      "cell_type": "code",
      "source": [
        "def sort_dict_by_values(input_dict):\n",
        "\n",
        "    # Create separate sorted lists of the integer tags and the associated labels\n",
        "    # We'll need this for doing analysis of the results of our classifier\n",
        "\n",
        "    items = list(input_dict.items())\n",
        "\n",
        "    items.sort(key=lambda item: int(item[1]))  # Convert values to integers for sorting\n",
        "\n",
        "    sorted_values = [item[1] for item in items]\n",
        "    sorted_keys = [item[0] for item in items]\n",
        "\n",
        "    return sorted_values, sorted_keys  # Return as a tuple\n",
        "\n",
        "# Use the provided sorting function\n",
        "sorted_values, sorted_keys = sort_dict_by_values(true_face_to_id)\n",
        "\n",
        "# Display the results\n",
        "print(\"Sorted True Face IDs:\", sorted_values)\n",
        "print(\"Sorted True Faces:\", sorted_keys)\n",
        "# The variable ''target_names'' stores all of the names of the labels.\n",
        "target_names = sorted_keys\n",
        "print(target_names)"
      ],
      "metadata": {
        "colab": {
          "base_uri": "https://localhost:8080/"
        },
        "id": "PrISy5R7MCk6",
        "outputId": "01294049-ccef-4cd7-92a4-bcf448c6241d"
      },
      "execution_count": 51,
      "outputs": [
        {
          "output_type": "stream",
          "name": "stdout",
          "text": [
            "Sorted True Face IDs: [0, 1, 2, 3, 4, 5, 6]\n",
            "Sorted True Faces: ['hneg-', 'hpos+', 'hpos-', 'other', 'sneg+', 'spos+', 'spos-']\n",
            "['hneg-', 'hpos+', 'hpos-', 'other', 'sneg+', 'spos+', 'spos-']\n"
          ]
        }
      ]
    },
    {
      "cell_type": "code",
      "source": [
        "EE_train_texts[:2]\n",
        "# Check the type of elements in train_texts\n",
        "print(type(EE_train_texts[0]))"
      ],
      "metadata": {
        "colab": {
          "base_uri": "https://localhost:8080/"
        },
        "id": "och_Dd71M0xP",
        "outputId": "99bb48f8-fbb5-46bd-8d8e-9c90b2defecb"
      },
      "execution_count": 52,
      "outputs": [
        {
          "output_type": "stream",
          "name": "stdout",
          "text": [
            "<class 'str'>\n"
          ]
        }
      ]
    },
    {
      "cell_type": "code",
      "source": [
        "# If train_texts contains elements that are not strings, convert them to strings.\n",
        "# For example, if train_texts contains integers, use:\n",
        "EE_train_texts = [str(text) for text in EE_train_texts]\n",
        "EE_valid_texts = [str(text) for text in EE_valid_texts]\n",
        "EE_test_texts = [str(text) for text in EE_test_texts]"
      ],
      "metadata": {
        "id": "gKfH0VWqNEbG"
      },
      "execution_count": 53,
      "outputs": []
    },
    {
      "cell_type": "markdown",
      "source": [
        "### 6.2 Tokenize and Prepare Text Data for BERT Model Training"
      ],
      "metadata": {
        "id": "HOn_ZE0ANSVD"
      }
    },
    {
      "cell_type": "code",
      "source": [
        "# tokenize the dataset, truncate at `max_length`,\n",
        "# Tokenize the datasets\n",
        "EE_train_encodings = bert_tokenizer(\n",
        "    EE_train_texts,\n",
        "    truncation=True,\n",
        "    padding='max_length',  # Ensure all are padded to max_length\n",
        "    max_length=200,\n",
        "    return_tensors='tf'\n",
        ")\n",
        "EE_valid_encodings = bert_tokenizer(\n",
        "    EE_valid_texts,\n",
        "    truncation=True,\n",
        "    padding='max_length',\n",
        "    max_length=200,\n",
        "    return_tensors='tf'\n",
        ")\n",
        "EE_test_encodings = bert_tokenizer(\n",
        "    EE_test_texts,\n",
        "    truncation=True,\n",
        "    padding='max_length',\n",
        "    max_length=200,\n",
        "    return_tensors='tf'\n",
        ")\n",
        "\n",
        "# Print shapes to verify\n",
        "print(f\"Train input_ids shape: {EE_train_encodings['input_ids'].shape}\")\n",
        "print(f\"Validation input_ids shape: {EE_valid_encodings['input_ids'].shape}\")\n",
        "print(f\"Test input_ids shape: {EE_test_encodings['input_ids'].shape}\")"
      ],
      "metadata": {
        "colab": {
          "base_uri": "https://localhost:8080/"
        },
        "id": "iKSKc-QUNMwL",
        "outputId": "11bdede8-7a68-4c8e-8af6-dc4956159928"
      },
      "execution_count": 54,
      "outputs": [
        {
          "output_type": "stream",
          "name": "stdout",
          "text": [
            "Train input_ids shape: (3832, 200)\n",
            "Validation input_ids shape: (958, 200)\n",
            "Test input_ids shape: (958, 200)\n"
          ]
        }
      ]
    },
    {
      "cell_type": "code",
      "source": [
        "EE_train_encodings"
      ],
      "metadata": {
        "colab": {
          "base_uri": "https://localhost:8080/"
        },
        "id": "meDqt9NqNhYg",
        "outputId": "57769aae-2533-4ca3-a43e-dda065ff32f2"
      },
      "execution_count": 57,
      "outputs": [
        {
          "output_type": "execute_result",
          "data": {
            "text/plain": [
              "{'input_ids': <tf.Tensor: shape=(3832, 200), dtype=int32, numpy=\n",
              "array([[ 101,  178, 1341, ...,    0,    0,    0],\n",
              "       [ 101,  178, 1138, ...,    0,    0,    0],\n",
              "       [ 101,  178, 1156, ...,    0,    0,    0],\n",
              "       ...,\n",
              "       [ 101, 1103, 6307, ...,    0,    0,    0],\n",
              "       [ 101, 1175, 1132, ...,    0,    0,    0],\n",
              "       [ 101,  178, 1138, ...,    0,    0,    0]], dtype=int32)>, 'token_type_ids': <tf.Tensor: shape=(3832, 200), dtype=int32, numpy=\n",
              "array([[0, 0, 0, ..., 0, 0, 0],\n",
              "       [0, 0, 0, ..., 0, 0, 0],\n",
              "       [0, 0, 0, ..., 0, 0, 0],\n",
              "       ...,\n",
              "       [0, 0, 0, ..., 0, 0, 0],\n",
              "       [0, 0, 0, ..., 0, 0, 0],\n",
              "       [0, 0, 0, ..., 0, 0, 0]], dtype=int32)>, 'attention_mask': <tf.Tensor: shape=(3832, 200), dtype=int32, numpy=\n",
              "array([[1, 1, 1, ..., 0, 0, 0],\n",
              "       [1, 1, 1, ..., 0, 0, 0],\n",
              "       [1, 1, 1, ..., 0, 0, 0],\n",
              "       ...,\n",
              "       [1, 1, 1, ..., 0, 0, 0],\n",
              "       [1, 1, 1, ..., 0, 0, 0],\n",
              "       [1, 1, 1, ..., 0, 0, 0]], dtype=int32)>}"
            ]
          },
          "metadata": {},
          "execution_count": 57
        }
      ]
    },
    {
      "cell_type": "code",
      "source": [
        "EE_train_encodings.input_ids[15]"
      ],
      "metadata": {
        "colab": {
          "base_uri": "https://localhost:8080/"
        },
        "id": "PQrcPqhoNMuU",
        "outputId": "45be1492-192b-4a92-f96f-b45f1f6f6b54"
      },
      "execution_count": 58,
      "outputs": [
        {
          "output_type": "execute_result",
          "data": {
            "text/plain": [
              "<tf.Tensor: shape=(200,), dtype=int32, numpy=\n",
              "array([ 101, 9294, 2317, 1198, 1867, 1482, 1116, 6630, 1133, 1674, 1136,\n",
              "       4734, 1251, 2747, 1116,  102,    0,    0,    0,    0,    0,    0,\n",
              "          0,    0,    0,    0,    0,    0,    0,    0,    0,    0,    0,\n",
              "          0,    0,    0,    0,    0,    0,    0,    0,    0,    0,    0,\n",
              "          0,    0,    0,    0,    0,    0,    0,    0,    0,    0,    0,\n",
              "          0,    0,    0,    0,    0,    0,    0,    0,    0,    0,    0,\n",
              "          0,    0,    0,    0,    0,    0,    0,    0,    0,    0,    0,\n",
              "          0,    0,    0,    0,    0,    0,    0,    0,    0,    0,    0,\n",
              "          0,    0,    0,    0,    0,    0,    0,    0,    0,    0,    0,\n",
              "          0,    0,    0,    0,    0,    0,    0,    0,    0,    0,    0,\n",
              "          0,    0,    0,    0,    0,    0,    0,    0,    0,    0,    0,\n",
              "          0,    0,    0,    0,    0,    0,    0,    0,    0,    0,    0,\n",
              "          0,    0,    0,    0,    0,    0,    0,    0,    0,    0,    0,\n",
              "          0,    0,    0,    0,    0,    0,    0,    0,    0,    0,    0,\n",
              "          0,    0,    0,    0,    0,    0,    0,    0,    0,    0,    0,\n",
              "          0,    0,    0,    0,    0,    0,    0,    0,    0,    0,    0,\n",
              "          0,    0,    0,    0,    0,    0,    0,    0,    0,    0,    0,\n",
              "          0,    0,    0,    0,    0,    0,    0,    0,    0,    0,    0,\n",
              "          0,    0], dtype=int32)>"
            ]
          },
          "metadata": {},
          "execution_count": 58
        }
      ]
    },
    {
      "cell_type": "markdown",
      "source": [
        "### 7 Train the Base model"
      ],
      "metadata": {
        "id": "4GlG6D6NNr9a"
      }
    },
    {
      "cell_type": "code",
      "source": [
        "pooler_bert_model = create_bert_multiclass_model(checkpoint=model_checkpoint, num_classes=7)"
      ],
      "metadata": {
        "id": "UP9c90NCPSde"
      },
      "execution_count": 61,
      "outputs": []
    },
    {
      "cell_type": "code",
      "source": [
        "print(\"Unique labels in training set:\", np.unique(EE_train_labels))\n",
        "print(\"Unique labels in validation set:\", np.unique(EE_valid_labels))\n",
        "print(\"Unique labels in validation set:\", np.unique(EE_test_labels))"
      ],
      "metadata": {
        "colab": {
          "base_uri": "https://localhost:8080/"
        },
        "id": "yQhVB0YWXV7d",
        "outputId": "a733dc19-ca26-4f0c-ef90-78dc3fb3284e"
      },
      "execution_count": 60,
      "outputs": [
        {
          "output_type": "stream",
          "name": "stdout",
          "text": [
            "Unique labels in training set: [0 1 2 3 4 5 6]\n",
            "Unique labels in validation set: [0 1 2 3 4 5 6]\n",
            "Unique labels in validation set: [0 1 2 3 4 5 6]\n"
          ]
        }
      ]
    },
    {
      "cell_type": "code",
      "source": [
        "pooler_bert_model.summary()"
      ],
      "metadata": {
        "colab": {
          "base_uri": "https://localhost:8080/"
        },
        "id": "S4eYmHdCPbz8",
        "outputId": "b3411f98-ba7a-4a4c-a5b7-e39482f2aeb4"
      },
      "execution_count": 62,
      "outputs": [
        {
          "output_type": "stream",
          "name": "stdout",
          "text": [
            "Model: \"model_1\"\n",
            "__________________________________________________________________________________________________\n",
            " Layer (type)                Output Shape                 Param #   Connected to                  \n",
            "==================================================================================================\n",
            " input_ids (InputLayer)      [(None, 200)]                0         []                            \n",
            "                                                                                                  \n",
            " attention_mask (InputLayer  [(None, 200)]                0         []                            \n",
            " )                                                                                                \n",
            "                                                                                                  \n",
            " token_type_ids (InputLayer  [(None, 200)]                0         []                            \n",
            " )                                                                                                \n",
            "                                                                                                  \n",
            " tf_bert_model (TFBertModel  TFBaseModelOutputWithPooli   1083102   ['input_ids[0][0]',           \n",
            " )                           ngAndCrossAttentions(last_   72         'attention_mask[0][0]',      \n",
            "                             hidden_state=(None, 200, 7              'token_type_ids[0][0]']      \n",
            "                             68),                                                                 \n",
            "                              pooler_output=(None, 768)                                           \n",
            "                             , past_key_values=None, hi                                           \n",
            "                             dden_states=None, attentio                                           \n",
            "                             ns=None, cross_attentions=                                           \n",
            "                             None)                                                                \n",
            "                                                                                                  \n",
            " dense_2 (Dense)             (None, 201)                  154569    ['tf_bert_model[1][1]']       \n",
            "                                                                                                  \n",
            " dropout_38 (Dropout)        (None, 201)                  0         ['dense_2[0][0]']             \n",
            "                                                                                                  \n",
            " dense_3 (Dense)             (None, 7)                    1414      ['dropout_38[0][0]']          \n",
            "                                                                                                  \n",
            "==================================================================================================\n",
            "Total params: 108466255 (413.77 MB)\n",
            "Trainable params: 108466255 (413.77 MB)\n",
            "Non-trainable params: 0 (0.00 Byte)\n",
            "__________________________________________________________________________________________________\n"
          ]
        }
      ]
    },
    {
      "cell_type": "code",
      "source": [
        "# Convert train_labels and val_labels to NumPy arrays if they are not already\n",
        "EE_train_labels = np.array(EE_train_labels, dtype=np.int32)\n",
        "EE_valid_labels = np.array(EE_valid_labels, dtype=np.int32)\n",
        "\n",
        "pooler_bert_EE_model_history = pooler_bert_model.fit([EE_train_encodings.input_ids, EE_train_encodings.token_type_ids, EE_train_encodings.attention_mask],\n",
        "                                                  EE_train_labels,\n",
        "                                                  validation_data=([EE_valid_encodings.input_ids, EE_valid_encodings.token_type_ids, EE_valid_encodings.attention_mask],\n",
        "                                                  EE_valid_labels),\n",
        "                                                  batch_size=8,\n",
        "                                                  epochs=1)"
      ],
      "metadata": {
        "colab": {
          "base_uri": "https://localhost:8080/"
        },
        "id": "hgtyJb-aNu_h",
        "outputId": "c85c44ba-233c-48c9-fc62-2baea4ea960c"
      },
      "execution_count": 63,
      "outputs": [
        {
          "output_type": "stream",
          "name": "stdout",
          "text": [
            "479/479 [==============================] - 248s 404ms/step - loss: 1.2107 - accuracy: 0.5412 - val_loss: 1.0805 - val_accuracy: 0.6002\n"
          ]
        }
      ]
    },
    {
      "cell_type": "markdown",
      "source": [
        "### 7.1 Class Weights to Mitigate Class Imbalance"
      ],
      "metadata": {
        "id": "5cCB5AUGY58h"
      }
    },
    {
      "cell_type": "code",
      "source": [
        "class_weights = class_weight.compute_class_weight(\n",
        "    class_weight='balanced',\n",
        "    classes=np.unique(EE_train_labels),\n",
        "    y=EE_train_labels\n",
        ")\n",
        "\n",
        "# Convert class weights to a dictionary\n",
        "class_weight_dict = {i: weight for i, weight in enumerate(class_weights)}\n",
        "\n",
        "# Fit the model with class weights\n",
        "pooler_bert_EE_model_history = pooler_bert_model.fit(\n",
        "    [EE_train_encodings.input_ids, EE_train_encodings.token_type_ids, EE_train_encodings.attention_mask],\n",
        "    EE_train_labels,\n",
        "    validation_data=(\n",
        "        [EE_valid_encodings.input_ids, EE_valid_encodings.token_type_ids, EE_valid_encodings.attention_mask],\n",
        "        EE_valid_labels\n",
        "    ),\n",
        "    batch_size=32,\n",
        "    epochs=5,\n",
        "    class_weight=class_weight_dict  # Include class weights here\n",
        ")"
      ],
      "metadata": {
        "colab": {
          "base_uri": "https://localhost:8080/"
        },
        "id": "5QoYjdqnY5Ta",
        "outputId": "d57d0f18-a5ae-4c1c-a05f-dabd525e4bbd"
      },
      "execution_count": 64,
      "outputs": [
        {
          "output_type": "stream",
          "name": "stdout",
          "text": [
            "Epoch 1/5\n",
            "120/120 [==============================] - 203s 1s/step - loss: 1.3371 - accuracy: 0.6587 - val_loss: 1.2807 - val_accuracy: 0.5522\n",
            "Epoch 2/5\n",
            "120/120 [==============================] - 172s 1s/step - loss: 1.0175 - accuracy: 0.7390 - val_loss: 1.2931 - val_accuracy: 0.5710\n",
            "Epoch 3/5\n",
            "120/120 [==============================] - 172s 1s/step - loss: 0.6410 - accuracy: 0.8066 - val_loss: 1.2611 - val_accuracy: 0.5919\n",
            "Epoch 4/5\n",
            "120/120 [==============================] - 172s 1s/step - loss: 0.3365 - accuracy: 0.8377 - val_loss: 1.4748 - val_accuracy: 0.6086\n",
            "Epoch 5/5\n",
            "120/120 [==============================] - 164s 1s/step - loss: 0.2224 - accuracy: 0.8789 - val_loss: 1.5484 - val_accuracy: 0.6127\n"
          ]
        }
      ]
    },
    {
      "cell_type": "markdown",
      "source": [
        "### 7.2 Evaluate the model on the EE Test set"
      ],
      "metadata": {
        "id": "RHhKIdnwcyqN"
      }
    },
    {
      "cell_type": "code",
      "source": [
        "EE_test_labels = np.array(EE_test_labels)\n",
        "# Evaluate the model\n",
        "score = pooler_bert_model.evaluate([EE_test_encodings.input_ids, EE_test_encodings.token_type_ids, EE_test_encodings.attention_mask],\n",
        "                                                  EE_test_labels)\n",
        "\n",
        "print('Test loss:', score[0])\n",
        "print('Test accuracy:', score[1])"
      ],
      "metadata": {
        "colab": {
          "base_uri": "https://localhost:8080/"
        },
        "id": "i2_F9aOtcx-S",
        "outputId": "5cf64807-250a-4752-ff65-deadce33187c"
      },
      "execution_count": 65,
      "outputs": [
        {
          "output_type": "stream",
          "name": "stdout",
          "text": [
            "30/30 [==============================] - 22s 414ms/step - loss: 0.5308 - accuracy: 0.8549\n",
            "Test loss: 0.5308212041854858\n",
            "Test accuracy: 0.8549060821533203\n"
          ]
        }
      ]
    },
    {
      "cell_type": "code",
      "source": [
        "#run predict for the first three elements in the test data set\n",
        "predictions = pooler_bert_model.predict([\n",
        "    EE_test_encodings.input_ids,\n",
        "    EE_test_encodings.token_type_ids,\n",
        "    EE_test_encodings.attention_mask\n",
        "])"
      ],
      "metadata": {
        "colab": {
          "base_uri": "https://localhost:8080/"
        },
        "id": "w3I7JPu5dQWS",
        "outputId": "3dd26310-95e0-4d62-d9b4-952b994eee64"
      },
      "execution_count": 66,
      "outputs": [
        {
          "output_type": "stream",
          "name": "stdout",
          "text": [
            "30/30 [==============================] - 22s 413ms/step\n"
          ]
        }
      ]
    },
    {
      "cell_type": "markdown",
      "source": [
        "### 8. Generate Classification Report"
      ],
      "metadata": {
        "id": "GYUq9A9CdfZZ"
      }
    },
    {
      "cell_type": "code",
      "source": [
        "print(\"Predictions shape:\", predictions.shape)\n",
        "# we need to get the highest probability in the distribution for each prediction\n",
        "predicted_classes = tf.argmax(predictions, axis=-1)\n",
        "\n",
        "# Convert predicted_classes to a NumPy array\n",
        "predicted_classes = predicted_classes.numpy()\n",
        "\n",
        "# Generate the classification report\n",
        "print(classification_report(EE_test_labels, predicted_classes, target_names=target_names))"
      ],
      "metadata": {
        "colab": {
          "base_uri": "https://localhost:8080/"
        },
        "id": "DYk71jObdfMC",
        "outputId": "4367da9c-a13b-4b5f-d961-aa9c080c206b"
      },
      "execution_count": 67,
      "outputs": [
        {
          "output_type": "stream",
          "name": "stdout",
          "text": [
            "Predictions shape: (958, 7)\n",
            "              precision    recall  f1-score   support\n",
            "\n",
            "       hneg-       0.70      0.95      0.80        75\n",
            "       hpos+       0.85      0.93      0.89       312\n",
            "       hpos-       0.86      0.88      0.87        69\n",
            "       other       0.94      0.77      0.84       375\n",
            "       sneg+       0.78      0.92      0.84        53\n",
            "       spos+       0.80      0.83      0.81        71\n",
            "       spos-       0.75      1.00      0.86         3\n",
            "\n",
            "    accuracy                           0.85       958\n",
            "   macro avg       0.81      0.90      0.85       958\n",
            "weighted avg       0.87      0.85      0.85       958\n",
            "\n"
          ]
        }
      ]
    },
    {
      "cell_type": "markdown",
      "source": [
        "### 8.1 Display Confusion Matrix"
      ],
      "metadata": {
        "id": "2bblRBVadp8O"
      }
    },
    {
      "cell_type": "code",
      "source": [
        "cm = tf.math.confusion_matrix(EE_test_labels, predicted_classes)\n",
        "cm = cm/cm.numpy().sum(axis=1)[:, tf.newaxis]\n",
        "\n",
        "\n",
        "plt.figure(figsize=(20,7))\n",
        "sns.heatmap(\n",
        "    cm, annot=True,\n",
        "    xticklabels=target_names,\n",
        "    yticklabels=target_names)\n",
        "plt.xlabel(\"Predicted\")\n",
        "plt.ylabel(\"True\")"
      ],
      "metadata": {
        "colab": {
          "base_uri": "https://localhost:8080/",
          "height": 612
        },
        "id": "OyZ3RLLsdpU4",
        "outputId": "ec39daa0-e1c8-4e57-f3e5-b24de269d941"
      },
      "execution_count": 69,
      "outputs": [
        {
          "output_type": "execute_result",
          "data": {
            "text/plain": [
              "Text(220.72222222222223, 0.5, 'True')"
            ]
          },
          "metadata": {},
          "execution_count": 69
        },
        {
          "output_type": "display_data",
          "data": {
            "text/plain": [
              "<Figure size 2000x700 with 2 Axes>"
            ],
            "image/png": "[encoded data removed]"
          },
          "metadata": {}
        }
      ]
    }
  ],
  "metadata": {
    "colab": {
      "provenance": [],
      "gpuType": "T4"
    },
    "kernelspec": {
      "display_name": "Python 3",
      "name": "python3"
    },
    "language_info": {
      "codemirror_mode": {
        "name": "ipython",
        "version": 3
      },
      "file_extension": ".py",
      "mimetype": "text/x-python",
      "name": "python",
      "nbconvert_exporter": "python",
      "pygments_lexer": "ipython3",
      "version": "3.8.5"
    },
    "accelerator": "GPU",
    "widgets": {
      "application/vnd.jupyter.widget-state+json": {
        "3b6152e6a5054193a473ebcb3435652a": {
          "model_module": "@jupyter-widgets/controls",
          "model_name": "HBoxModel",
          "model_module_version": "1.5.0",
          "state": {
            "_dom_classes": [],
            "_model_module": "@jupyter-widgets/controls",
            "_model_module_version": "1.5.0",
            "_model_name": "HBoxModel",
            "_view_count": null,
            "_view_module": "@jupyter-widgets/controls",
            "_view_module_version": "1.5.0",
            "_view_name": "HBoxView",
            "box_style": "",
            "children": [
              "IPY_MODEL_39fbf9f359da43be90fdc66b6727c12f",
              "IPY_MODEL_f93661cded924866bc48d0092ac925a8",
              "IPY_MODEL_3ffb613772494b5885c07f7eca6a61d6"
            ],
            "layout": "IPY_MODEL_f6720a601e934038a5eac6eca01dd6b9"
          }
        },
        "39fbf9f359da43be90fdc66b6727c12f": {
          "model_module": "@jupyter-widgets/controls",
          "model_name": "HTMLModel",
          "model_module_version": "1.5.0",
          "state": {
            "_dom_classes": [],
            "_model_module": "@jupyter-widgets/controls",
            "_model_module_version": "1.5.0",
            "_model_name": "HTMLModel",
            "_view_count": null,
            "_view_module": "@jupyter-widgets/controls",
            "_view_module_version": "1.5.0",
            "_view_name": "HTMLView",
            "description": "",
            "description_tooltip": null,
            "layout": "IPY_MODEL_4980d9fb1dad46f18b3ed47be66d7373",
            "placeholder": "​",
            "style": "IPY_MODEL_64b3ed37a6c446d8ada43dfc081fd055",
            "value": "tokenizer_config.json: 100%"
          }
        },
        "f93661cded924866bc48d0092ac925a8": {
          "model_module": "@jupyter-widgets/controls",
          "model_name": "FloatProgressModel",
          "model_module_version": "1.5.0",
          "state": {
            "_dom_classes": [],
            "_model_module": "@jupyter-widgets/controls",
            "_model_module_version": "1.5.0",
            "_model_name": "FloatProgressModel",
            "_view_count": null,
            "_view_module": "@jupyter-widgets/controls",
            "_view_module_version": "1.5.0",
            "_view_name": "ProgressView",
            "bar_style": "success",
            "description": "",
            "description_tooltip": null,
            "layout": "IPY_MODEL_d5086ebc7a72485ab948727915c02372",
            "max": 49,
            "min": 0,
            "orientation": "horizontal",
            "style": "IPY_MODEL_dc2da3994b4b43adbb7a0d49512c81e2",
            "value": 49
          }
        },
        "3ffb613772494b5885c07f7eca6a61d6": {
          "model_module": "@jupyter-widgets/controls",
          "model_name": "HTMLModel",
          "model_module_version": "1.5.0",
          "state": {
            "_dom_classes": [],
            "_model_module": "@jupyter-widgets/controls",
            "_model_module_version": "1.5.0",
            "_model_name": "HTMLModel",
            "_view_count": null,
            "_view_module": "@jupyter-widgets/controls",
            "_view_module_version": "1.5.0",
            "_view_name": "HTMLView",
            "description": "",
            "description_tooltip": null,
            "layout": "IPY_MODEL_46fc96fe0382427c823cbe14f2ffd151",
            "placeholder": "​",
            "style": "IPY_MODEL_a0ea47f6a1074b28bbd8ea4f87bd5bb1",
            "value": " 49.0/49.0 [00:00&lt;00:00, 3.73kB/s]"
          }
        },
        "f6720a601e934038a5eac6eca01dd6b9": {
          "model_module": "@jupyter-widgets/base",
          "model_name": "LayoutModel",
          "model_module_version": "1.2.0",
          "state": {
            "_model_module": "@jupyter-widgets/base",
            "_model_module_version": "1.2.0",
            "_model_name": "LayoutModel",
            "_view_count": null,
            "_view_module": "@jupyter-widgets/base",
            "_view_module_version": "1.2.0",
            "_view_name": "LayoutView",
            "align_content": null,
            "align_items": null,
            "align_self": null,
            "border": null,
            "bottom": null,
            "display": null,
            "flex": null,
            "flex_flow": null,
            "grid_area": null,
            "grid_auto_columns": null,
            "grid_auto_flow": null,
            "grid_auto_rows": null,
            "grid_column": null,
            "grid_gap": null,
            "grid_row": null,
            "grid_template_areas": null,
            "grid_template_columns": null,
            "grid_template_rows": null,
            "height": null,
            "justify_content": null,
            "justify_items": null,
            "left": null,
            "margin": null,
            "max_height": null,
            "max_width": null,
            "min_height": null,
            "min_width": null,
            "object_fit": null,
            "object_position": null,
            "order": null,
            "overflow": null,
            "overflow_x": null,
            "overflow_y": null,
            "padding": null,
            "right": null,
            "top": null,
            "visibility": null,
            "width": null
          }
        },
        "4980d9fb1dad46f18b3ed47be66d7373": {
          "model_module": "@jupyter-widgets/base",
          "model_name": "LayoutModel",
          "model_module_version": "1.2.0",
          "state": {
            "_model_module": "@jupyter-widgets/base",
            "_model_module_version": "1.2.0",
            "_model_name": "LayoutModel",
            "_view_count": null,
            "_view_module": "@jupyter-widgets/base",
            "_view_module_version": "1.2.0",
            "_view_name": "LayoutView",
            "align_content": null,
            "align_items": null,
            "align_self": null,
            "border": null,
            "bottom": null,
            "display": null,
            "flex": null,
            "flex_flow": null,
            "grid_area": null,
            "grid_auto_columns": null,
            "grid_auto_flow": null,
            "grid_auto_rows": null,
            "grid_column": null,
            "grid_gap": null,
            "grid_row": null,
            "grid_template_areas": null,
            "grid_template_columns": null,
            "grid_template_rows": null,
            "height": null,
            "justify_content": null,
            "justify_items": null,
            "left": null,
            "margin": null,
            "max_height": null,
            "max_width": null,
            "min_height": null,
            "min_width": null,
            "object_fit": null,
            "object_position": null,
            "order": null,
            "overflow": null,
            "overflow_x": null,
            "overflow_y": null,
            "padding": null,
            "right": null,
            "top": null,
            "visibility": null,
            "width": null
          }
        },
        "64b3ed37a6c446d8ada43dfc081fd055": {
          "model_module": "@jupyter-widgets/controls",
          "model_name": "DescriptionStyleModel",
          "model_module_version": "1.5.0",
          "state": {
            "_model_module": "@jupyter-widgets/controls",
            "_model_module_version": "1.5.0",
            "_model_name": "DescriptionStyleModel",
            "_view_count": null,
            "_view_module": "@jupyter-widgets/base",
            "_view_module_version": "1.2.0",
            "_view_name": "StyleView",
            "description_width": ""
          }
        },
        "d5086ebc7a72485ab948727915c02372": {
          "model_module": "@jupyter-widgets/base",
          "model_name": "LayoutModel",
          "model_module_version": "1.2.0",
          "state": {
            "_model_module": "@jupyter-widgets/base",
            "_model_module_version": "1.2.0",
            "_model_name": "LayoutModel",
            "_view_count": null,
            "_view_module": "@jupyter-widgets/base",
            "_view_module_version": "1.2.0",
            "_view_name": "LayoutView",
            "align_content": null,
            "align_items": null,
            "align_self": null,
            "border": null,
            "bottom": null,
            "display": null,
            "flex": null,
            "flex_flow": null,
            "grid_area": null,
            "grid_auto_columns": null,
            "grid_auto_flow": null,
            "grid_auto_rows": null,
            "grid_column": null,
            "grid_gap": null,
            "grid_row": null,
            "grid_template_areas": null,
            "grid_template_columns": null,
            "grid_template_rows": null,
            "height": null,
            "justify_content": null,
            "justify_items": null,
            "left": null,
            "margin": null,
            "max_height": null,
            "max_width": null,
            "min_height": null,
            "min_width": null,
            "object_fit": null,
            "object_position": null,
            "order": null,
            "overflow": null,
            "overflow_x": null,
            "overflow_y": null,
            "padding": null,
            "right": null,
            "top": null,
            "visibility": null,
            "width": null
          }
        },
        "dc2da3994b4b43adbb7a0d49512c81e2": {
          "model_module": "@jupyter-widgets/controls",
          "model_name": "ProgressStyleModel",
          "model_module_version": "1.5.0",
          "state": {
            "_model_module": "@jupyter-widgets/controls",
            "_model_module_version": "1.5.0",
            "_model_name": "ProgressStyleModel",
            "_view_count": null,
            "_view_module": "@jupyter-widgets/base",
            "_view_module_version": "1.2.0",
            "_view_name": "StyleView",
            "bar_color": null,
            "description_width": ""
          }
        },
        "46fc96fe0382427c823cbe14f2ffd151": {
          "model_module": "@jupyter-widgets/base",
          "model_name": "LayoutModel",
          "model_module_version": "1.2.0",
          "state": {
            "_model_module": "@jupyter-widgets/base",
            "_model_module_version": "1.2.0",
            "_model_name": "LayoutModel",
            "_view_count": null,
            "_view_module": "@jupyter-widgets/base",
            "_view_module_version": "1.2.0",
            "_view_name": "LayoutView",
            "align_content": null,
            "align_items": null,
            "align_self": null,
            "border": null,
            "bottom": null,
            "display": null,
            "flex": null,
            "flex_flow": null,
            "grid_area": null,
            "grid_auto_columns": null,
            "grid_auto_flow": null,
            "grid_auto_rows": null,
            "grid_column": null,
            "grid_gap": null,
            "grid_row": null,
            "grid_template_areas": null,
            "grid_template_columns": null,
            "grid_template_rows": null,
            "height": null,
            "justify_content": null,
            "justify_items": null,
            "left": null,
            "margin": null,
            "max_height": null,
            "max_width": null,
            "min_height": null,
            "min_width": null,
            "object_fit": null,
            "object_position": null,
            "order": null,
            "overflow": null,
            "overflow_x": null,
            "overflow_y": null,
            "padding": null,
            "right": null,
            "top": null,
            "visibility": null,
            "width": null
          }
        },
        "a0ea47f6a1074b28bbd8ea4f87bd5bb1": {
          "model_module": "@jupyter-widgets/controls",
          "model_name": "DescriptionStyleModel",
          "model_module_version": "1.5.0",
          "state": {
            "_model_module": "@jupyter-widgets/controls",
            "_model_module_version": "1.5.0",
            "_model_name": "DescriptionStyleModel",
            "_view_count": null,
            "_view_module": "@jupyter-widgets/base",
            "_view_module_version": "1.2.0",
            "_view_name": "StyleView",
            "description_width": ""
          }
        },
        "14880a18e9f444a992a1a5c7af9f27d8": {
          "model_module": "@jupyter-widgets/controls",
          "model_name": "HBoxModel",
          "model_module_version": "1.5.0",
          "state": {
            "_dom_classes": [],
            "_model_module": "@jupyter-widgets/controls",
            "_model_module_version": "1.5.0",
            "_model_name": "HBoxModel",
            "_view_count": null,
            "_view_module": "@jupyter-widgets/controls",
            "_view_module_version": "1.5.0",
            "_view_name": "HBoxView",
            "box_style": "",
            "children": [
              "IPY_MODEL_be8825c74556462b85506283a5a9f7d3",
              "IPY_MODEL_aa12efa6c1aa4d9396c76290279d9e56",
              "IPY_MODEL_506f7d4cf4d1464c935f69efd32de039"
            ],
            "layout": "IPY_MODEL_7b3ea50c82084a9b867c8e358cbe1e4d"
          }
        },
        "be8825c74556462b85506283a5a9f7d3": {
          "model_module": "@jupyter-widgets/controls",
          "model_name": "HTMLModel",
          "model_module_version": "1.5.0",
          "state": {
            "_dom_classes": [],
            "_model_module": "@jupyter-widgets/controls",
            "_model_module_version": "1.5.0",
            "_model_name": "HTMLModel",
            "_view_count": null,
            "_view_module": "@jupyter-widgets/controls",
            "_view_module_version": "1.5.0",
            "_view_name": "HTMLView",
            "description": "",
            "description_tooltip": null,
            "layout": "IPY_MODEL_17ccf7c1229941cca235f247e1fc09d1",
            "placeholder": "​",
            "style": "IPY_MODEL_8b41fdc2aab2460e9e77b154c336f56e",
            "value": "vocab.txt: 100%"
          }
        },
        "aa12efa6c1aa4d9396c76290279d9e56": {
          "model_module": "@jupyter-widgets/controls",
          "model_name": "FloatProgressModel",
          "model_module_version": "1.5.0",
          "state": {
            "_dom_classes": [],
            "_model_module": "@jupyter-widgets/controls",
            "_model_module_version": "1.5.0",
            "_model_name": "FloatProgressModel",
            "_view_count": null,
            "_view_module": "@jupyter-widgets/controls",
            "_view_module_version": "1.5.0",
            "_view_name": "ProgressView",
            "bar_style": "success",
            "description": "",
            "description_tooltip": null,
            "layout": "IPY_MODEL_7e9e058da0a54f9ca59377349299ef2c",
            "max": 213450,
            "min": 0,
            "orientation": "horizontal",
            "style": "IPY_MODEL_3e1552c942c448e1a08b5bda28ff2144",
            "value": 213450
          }
        },
        "506f7d4cf4d1464c935f69efd32de039": {
          "model_module": "@jupyter-widgets/controls",
          "model_name": "HTMLModel",
          "model_module_version": "1.5.0",
          "state": {
            "_dom_classes": [],
            "_model_module": "@jupyter-widgets/controls",
            "_model_module_version": "1.5.0",
            "_model_name": "HTMLModel",
            "_view_count": null,
            "_view_module": "@jupyter-widgets/controls",
            "_view_module_version": "1.5.0",
            "_view_name": "HTMLView",
            "description": "",
            "description_tooltip": null,
            "layout": "IPY_MODEL_7cbdbf2e6f7f44cd8a545b4d98fb6160",
            "placeholder": "​",
            "style": "IPY_MODEL_c4143b3586874250baad93391d577fc5",
            "value": " 213k/213k [00:00&lt;00:00, 975kB/s]"
          }
        },
        "7b3ea50c82084a9b867c8e358cbe1e4d": {
          "model_module": "@jupyter-widgets/base",
          "model_name": "LayoutModel",
          "model_module_version": "1.2.0",
          "state": {
            "_model_module": "@jupyter-widgets/base",
            "_model_module_version": "1.2.0",
            "_model_name": "LayoutModel",
            "_view_count": null,
            "_view_module": "@jupyter-widgets/base",
            "_view_module_version": "1.2.0",
            "_view_name": "LayoutView",
            "align_content": null,
            "align_items": null,
            "align_self": null,
            "border": null,
            "bottom": null,
            "display": null,
            "flex": null,
            "flex_flow": null,
            "grid_area": null,
            "grid_auto_columns": null,
            "grid_auto_flow": null,
            "grid_auto_rows": null,
            "grid_column": null,
            "grid_gap": null,
            "grid_row": null,
            "grid_template_areas": null,
            "grid_template_columns": null,
            "grid_template_rows": null,
            "height": null,
            "justify_content": null,
            "justify_items": null,
            "left": null,
            "margin": null,
            "max_height": null,
            "max_width": null,
            "min_height": null,
            "min_width": null,
            "object_fit": null,
            "object_position": null,
            "order": null,
            "overflow": null,
            "overflow_x": null,
            "overflow_y": null,
            "padding": null,
            "right": null,
            "top": null,
            "visibility": null,
            "width": null
          }
        },
        "17ccf7c1229941cca235f247e1fc09d1": {
          "model_module": "@jupyter-widgets/base",
          "model_name": "LayoutModel",
          "model_module_version": "1.2.0",
          "state": {
            "_model_module": "@jupyter-widgets/base",
            "_model_module_version": "1.2.0",
            "_model_name": "LayoutModel",
            "_view_count": null,
            "_view_module": "@jupyter-widgets/base",
            "_view_module_version": "1.2.0",
            "_view_name": "LayoutView",
            "align_content": null,
            "align_items": null,
            "align_self": null,
            "border": null,
            "bottom": null,
            "display": null,
            "flex": null,
            "flex_flow": null,
            "grid_area": null,
            "grid_auto_columns": null,
            "grid_auto_flow": null,
            "grid_auto_rows": null,
            "grid_column": null,
            "grid_gap": null,
            "grid_row": null,
            "grid_template_areas": null,
            "grid_template_columns": null,
            "grid_template_rows": null,
            "height": null,
            "justify_content": null,
            "justify_items": null,
            "left": null,
            "margin": null,
            "max_height": null,
            "max_width": null,
            "min_height": null,
            "min_width": null,
            "object_fit": null,
            "object_position": null,
            "order": null,
            "overflow": null,
            "overflow_x": null,
            "overflow_y": null,
            "padding": null,
            "right": null,
            "top": null,
            "visibility": null,
            "width": null
          }
        },
        "8b41fdc2aab2460e9e77b154c336f56e": {
          "model_module": "@jupyter-widgets/controls",
          "model_name": "DescriptionStyleModel",
          "model_module_version": "1.5.0",
          "state": {
            "_model_module": "@jupyter-widgets/controls",
            "_model_module_version": "1.5.0",
            "_model_name": "DescriptionStyleModel",
            "_view_count": null,
            "_view_module": "@jupyter-widgets/base",
            "_view_module_version": "1.2.0",
            "_view_name": "StyleView",
            "description_width": ""
          }
        },
        "7e9e058da0a54f9ca59377349299ef2c": {
          "model_module": "@jupyter-widgets/base",
          "model_name": "LayoutModel",
          "model_module_version": "1.2.0",
          "state": {
            "_model_module": "@jupyter-widgets/base",
            "_model_module_version": "1.2.0",
            "_model_name": "LayoutModel",
            "_view_count": null,
            "_view_module": "@jupyter-widgets/base",
            "_view_module_version": "1.2.0",
            "_view_name": "LayoutView",
            "align_content": null,
            "align_items": null,
            "align_self": null,
            "border": null,
            "bottom": null,
            "display": null,
            "flex": null,
            "flex_flow": null,
            "grid_area": null,
            "grid_auto_columns": null,
            "grid_auto_flow": null,
            "grid_auto_rows": null,
            "grid_column": null,
            "grid_gap": null,
            "grid_row": null,
            "grid_template_areas": null,
            "grid_template_columns": null,
            "grid_template_rows": null,
            "height": null,
            "justify_content": null,
            "justify_items": null,
            "left": null,
            "margin": null,
            "max_height": null,
            "max_width": null,
            "min_height": null,
            "min_width": null,
            "object_fit": null,
            "object_position": null,
            "order": null,
            "overflow": null,
            "overflow_x": null,
            "overflow_y": null,
            "padding": null,
            "right": null,
            "top": null,
            "visibility": null,
            "width": null
          }
        },
        "3e1552c942c448e1a08b5bda28ff2144": {
          "model_module": "@jupyter-widgets/controls",
          "model_name": "ProgressStyleModel",
          "model_module_version": "1.5.0",
          "state": {
            "_model_module": "@jupyter-widgets/controls",
            "_model_module_version": "1.5.0",
            "_model_name": "ProgressStyleModel",
            "_view_count": null,
            "_view_module": "@jupyter-widgets/base",
            "_view_module_version": "1.2.0",
            "_view_name": "StyleView",
            "bar_color": null,
            "description_width": ""
          }
        },
        "7cbdbf2e6f7f44cd8a545b4d98fb6160": {
          "model_module": "@jupyter-widgets/base",
          "model_name": "LayoutModel",
          "model_module_version": "1.2.0",
          "state": {
            "_model_module": "@jupyter-widgets/base",
            "_model_module_version": "1.2.0",
            "_model_name": "LayoutModel",
            "_view_count": null,
            "_view_module": "@jupyter-widgets/base",
            "_view_module_version": "1.2.0",
            "_view_name": "LayoutView",
            "align_content": null,
            "align_items": null,
            "align_self": null,
            "border": null,
            "bottom": null,
            "display": null,
            "flex": null,
            "flex_flow": null,
            "grid_area": null,
            "grid_auto_columns": null,
            "grid_auto_flow": null,
            "grid_auto_rows": null,
            "grid_column": null,
            "grid_gap": null,
            "grid_row": null,
            "grid_template_areas": null,
            "grid_template_columns": null,
            "grid_template_rows": null,
            "height": null,
            "justify_content": null,
            "justify_items": null,
            "left": null,
            "margin": null,
            "max_height": null,
            "max_width": null,
            "min_height": null,
            "min_width": null,
            "object_fit": null,
            "object_position": null,
            "order": null,
            "overflow": null,
            "overflow_x": null,
            "overflow_y": null,
            "padding": null,
            "right": null,
            "top": null,
            "visibility": null,
            "width": null
          }
        },
        "c4143b3586874250baad93391d577fc5": {
          "model_module": "@jupyter-widgets/controls",
          "model_name": "DescriptionStyleModel",
          "model_module_version": "1.5.0",
          "state": {
            "_model_module": "@jupyter-widgets/controls",
            "_model_module_version": "1.5.0",
            "_model_name": "DescriptionStyleModel",
            "_view_count": null,
            "_view_module": "@jupyter-widgets/base",
            "_view_module_version": "1.2.0",
            "_view_name": "StyleView",
            "description_width": ""
          }
        },
        "b20248b63edd4881bf63ffd24b47f13f": {
          "model_module": "@jupyter-widgets/controls",
          "model_name": "HBoxModel",
          "model_module_version": "1.5.0",
          "state": {
            "_dom_classes": [],
            "_model_module": "@jupyter-widgets/controls",
            "_model_module_version": "1.5.0",
            "_model_name": "HBoxModel",
            "_view_count": null,
            "_view_module": "@jupyter-widgets/controls",
            "_view_module_version": "1.5.0",
            "_view_name": "HBoxView",
            "box_style": "",
            "children": [
              "IPY_MODEL_2b16979d550c48af84dc1e16d0aa35d7",
              "IPY_MODEL_d0f862db40864779b505829dbc8016c5",
              "IPY_MODEL_9580974798a945b38bb3e864aad3492c"
            ],
            "layout": "IPY_MODEL_597af6be9e484c47a479e8a2b1250fd8"
          }
        },
        "2b16979d550c48af84dc1e16d0aa35d7": {
          "model_module": "@jupyter-widgets/controls",
          "model_name": "HTMLModel",
          "model_module_version": "1.5.0",
          "state": {
            "_dom_classes": [],
            "_model_module": "@jupyter-widgets/controls",
            "_model_module_version": "1.5.0",
            "_model_name": "HTMLModel",
            "_view_count": null,
            "_view_module": "@jupyter-widgets/controls",
            "_view_module_version": "1.5.0",
            "_view_name": "HTMLView",
            "description": "",
            "description_tooltip": null,
            "layout": "IPY_MODEL_c5fc816e68e549899d68ef97e9e9a1c2",
            "placeholder": "​",
            "style": "IPY_MODEL_60f15c6d52a247cea9b82eef43a23212",
            "value": "tokenizer.json: 100%"
          }
        },
        "d0f862db40864779b505829dbc8016c5": {
          "model_module": "@jupyter-widgets/controls",
          "model_name": "FloatProgressModel",
          "model_module_version": "1.5.0",
          "state": {
            "_dom_classes": [],
            "_model_module": "@jupyter-widgets/controls",
            "_model_module_version": "1.5.0",
            "_model_name": "FloatProgressModel",
            "_view_count": null,
            "_view_module": "@jupyter-widgets/controls",
            "_view_module_version": "1.5.0",
            "_view_name": "ProgressView",
            "bar_style": "success",
            "description": "",
            "description_tooltip": null,
            "layout": "IPY_MODEL_ac9b57b81c394f4c9f0c6d4ea0b79aa5",
            "max": 435797,
            "min": 0,
            "orientation": "horizontal",
            "style": "IPY_MODEL_2bfcd8317db04c1ca4613ac0cb8f5029",
            "value": 435797
          }
        },
        "9580974798a945b38bb3e864aad3492c": {
          "model_module": "@jupyter-widgets/controls",
          "model_name": "HTMLModel",
          "model_module_version": "1.5.0",
          "state": {
            "_dom_classes": [],
            "_model_module": "@jupyter-widgets/controls",
            "_model_module_version": "1.5.0",
            "_model_name": "HTMLModel",
            "_view_count": null,
            "_view_module": "@jupyter-widgets/controls",
            "_view_module_version": "1.5.0",
            "_view_name": "HTMLView",
            "description": "",
            "description_tooltip": null,
            "layout": "IPY_MODEL_0580a8c865eb4c61b4810d3171eb3e7f",
            "placeholder": "​",
            "style": "IPY_MODEL_14f85a50bdd349338ed64c4a982cfc4b",
            "value": " 436k/436k [00:00&lt;00:00, 914kB/s]"
          }
        },
        "597af6be9e484c47a479e8a2b1250fd8": {
          "model_module": "@jupyter-widgets/base",
          "model_name": "LayoutModel",
          "model_module_version": "1.2.0",
          "state": {
            "_model_module": "@jupyter-widgets/base",
            "_model_module_version": "1.2.0",
            "_model_name": "LayoutModel",
            "_view_count": null,
            "_view_module": "@jupyter-widgets/base",
            "_view_module_version": "1.2.0",
            "_view_name": "LayoutView",
            "align_content": null,
            "align_items": null,
            "align_self": null,
            "border": null,
            "bottom": null,
            "display": null,
            "flex": null,
            "flex_flow": null,
            "grid_area": null,
            "grid_auto_columns": null,
            "grid_auto_flow": null,
            "grid_auto_rows": null,
            "grid_column": null,
            "grid_gap": null,
            "grid_row": null,
            "grid_template_areas": null,
            "grid_template_columns": null,
            "grid_template_rows": null,
            "height": null,
            "justify_content": null,
            "justify_items": null,
            "left": null,
            "margin": null,
            "max_height": null,
            "max_width": null,
            "min_height": null,
            "min_width": null,
            "object_fit": null,
            "object_position": null,
            "order": null,
            "overflow": null,
            "overflow_x": null,
            "overflow_y": null,
            "padding": null,
            "right": null,
            "top": null,
            "visibility": null,
            "width": null
          }
        },
        "c5fc816e68e549899d68ef97e9e9a1c2": {
          "model_module": "@jupyter-widgets/base",
          "model_name": "LayoutModel",
          "model_module_version": "1.2.0",
          "state": {
            "_model_module": "@jupyter-widgets/base",
            "_model_module_version": "1.2.0",
            "_model_name": "LayoutModel",
            "_view_count": null,
            "_view_module": "@jupyter-widgets/base",
            "_view_module_version": "1.2.0",
            "_view_name": "LayoutView",
            "align_content": null,
            "align_items": null,
            "align_self": null,
            "border": null,
            "bottom": null,
            "display": null,
            "flex": null,
            "flex_flow": null,
            "grid_area": null,
            "grid_auto_columns": null,
            "grid_auto_flow": null,
            "grid_auto_rows": null,
            "grid_column": null,
            "grid_gap": null,
            "grid_row": null,
            "grid_template_areas": null,
            "grid_template_columns": null,
            "grid_template_rows": null,
            "height": null,
            "justify_content": null,
            "justify_items": null,
            "left": null,
            "margin": null,
            "max_height": null,
            "max_width": null,
            "min_height": null,
            "min_width": null,
            "object_fit": null,
            "object_position": null,
            "order": null,
            "overflow": null,
            "overflow_x": null,
            "overflow_y": null,
            "padding": null,
            "right": null,
            "top": null,
            "visibility": null,
            "width": null
          }
        },
        "60f15c6d52a247cea9b82eef43a23212": {
          "model_module": "@jupyter-widgets/controls",
          "model_name": "DescriptionStyleModel",
          "model_module_version": "1.5.0",
          "state": {
            "_model_module": "@jupyter-widgets/controls",
            "_model_module_version": "1.5.0",
            "_model_name": "DescriptionStyleModel",
            "_view_count": null,
            "_view_module": "@jupyter-widgets/base",
            "_view_module_version": "1.2.0",
            "_view_name": "StyleView",
            "description_width": ""
          }
        },
        "ac9b57b81c394f4c9f0c6d4ea0b79aa5": {
          "model_module": "@jupyter-widgets/base",
          "model_name": "LayoutModel",
          "model_module_version": "1.2.0",
          "state": {
            "_model_module": "@jupyter-widgets/base",
            "_model_module_version": "1.2.0",
            "_model_name": "LayoutModel",
            "_view_count": null,
            "_view_module": "@jupyter-widgets/base",
            "_view_module_version": "1.2.0",
            "_view_name": "LayoutView",
            "align_content": null,
            "align_items": null,
            "align_self": null,
            "border": null,
            "bottom": null,
            "display": null,
            "flex": null,
            "flex_flow": null,
            "grid_area": null,
            "grid_auto_columns": null,
            "grid_auto_flow": null,
            "grid_auto_rows": null,
            "grid_column": null,
            "grid_gap": null,
            "grid_row": null,
            "grid_template_areas": null,
            "grid_template_columns": null,
            "grid_template_rows": null,
            "height": null,
            "justify_content": null,
            "justify_items": null,
            "left": null,
            "margin": null,
            "max_height": null,
            "max_width": null,
            "min_height": null,
            "min_width": null,
            "object_fit": null,
            "object_position": null,
            "order": null,
            "overflow": null,
            "overflow_x": null,
            "overflow_y": null,
            "padding": null,
            "right": null,
            "top": null,
            "visibility": null,
            "width": null
          }
        },
        "2bfcd8317db04c1ca4613ac0cb8f5029": {
          "model_module": "@jupyter-widgets/controls",
          "model_name": "ProgressStyleModel",
          "model_module_version": "1.5.0",
          "state": {
            "_model_module": "@jupyter-widgets/controls",
            "_model_module_version": "1.5.0",
            "_model_name": "ProgressStyleModel",
            "_view_count": null,
            "_view_module": "@jupyter-widgets/base",
            "_view_module_version": "1.2.0",
            "_view_name": "StyleView",
            "bar_color": null,
            "description_width": ""
          }
        },
        "0580a8c865eb4c61b4810d3171eb3e7f": {
          "model_module": "@jupyter-widgets/base",
          "model_name": "LayoutModel",
          "model_module_version": "1.2.0",
          "state": {
            "_model_module": "@jupyter-widgets/base",
            "_model_module_version": "1.2.0",
            "_model_name": "LayoutModel",
            "_view_count": null,
            "_view_module": "@jupyter-widgets/base",
            "_view_module_version": "1.2.0",
            "_view_name": "LayoutView",
            "align_content": null,
            "align_items": null,
            "align_self": null,
            "border": null,
            "bottom": null,
            "display": null,
            "flex": null,
            "flex_flow": null,
            "grid_area": null,
            "grid_auto_columns": null,
            "grid_auto_flow": null,
            "grid_auto_rows": null,
            "grid_column": null,
            "grid_gap": null,
            "grid_row": null,
            "grid_template_areas": null,
            "grid_template_columns": null,
            "grid_template_rows": null,
            "height": null,
            "justify_content": null,
            "justify_items": null,
            "left": null,
            "margin": null,
            "max_height": null,
            "max_width": null,
            "min_height": null,
            "min_width": null,
            "object_fit": null,
            "object_position": null,
            "order": null,
            "overflow": null,
            "overflow_x": null,
            "overflow_y": null,
            "padding": null,
            "right": null,
            "top": null,
            "visibility": null,
            "width": null
          }
        },
        "14f85a50bdd349338ed64c4a982cfc4b": {
          "model_module": "@jupyter-widgets/controls",
          "model_name": "DescriptionStyleModel",
          "model_module_version": "1.5.0",
          "state": {
            "_model_module": "@jupyter-widgets/controls",
            "_model_module_version": "1.5.0",
            "_model_name": "DescriptionStyleModel",
            "_view_count": null,
            "_view_module": "@jupyter-widgets/base",
            "_view_module_version": "1.2.0",
            "_view_name": "StyleView",
            "description_width": ""
          }
        },
        "6980133fb56c4ce19e9ca2a1eca340cb": {
          "model_module": "@jupyter-widgets/controls",
          "model_name": "HBoxModel",
          "model_module_version": "1.5.0",
          "state": {
            "_dom_classes": [],
            "_model_module": "@jupyter-widgets/controls",
            "_model_module_version": "1.5.0",
            "_model_name": "HBoxModel",
            "_view_count": null,
            "_view_module": "@jupyter-widgets/controls",
            "_view_module_version": "1.5.0",
            "_view_name": "HBoxView",
            "box_style": "",
            "children": [
              "IPY_MODEL_70f8947952c3499b96a2a77c13d322ec",
              "IPY_MODEL_8ecf5e70ae1f4c52a4fb2d1962295542",
              "IPY_MODEL_cd9be941c1064100a6ea63b02c65c8e8"
            ],
            "layout": "IPY_MODEL_4930b855e22e4e5582b93e0132d4a341"
          }
        },
        "70f8947952c3499b96a2a77c13d322ec": {
          "model_module": "@jupyter-widgets/controls",
          "model_name": "HTMLModel",
          "model_module_version": "1.5.0",
          "state": {
            "_dom_classes": [],
            "_model_module": "@jupyter-widgets/controls",
            "_model_module_version": "1.5.0",
            "_model_name": "HTMLModel",
            "_view_count": null,
            "_view_module": "@jupyter-widgets/controls",
            "_view_module_version": "1.5.0",
            "_view_name": "HTMLView",
            "description": "",
            "description_tooltip": null,
            "layout": "IPY_MODEL_096aaffcd8754c558eb591bbe13eeb9b",
            "placeholder": "​",
            "style": "IPY_MODEL_4a55b5c87c1644069f6ec379bb3bb0a6",
            "value": "config.json: 100%"
          }
        },
        "8ecf5e70ae1f4c52a4fb2d1962295542": {
          "model_module": "@jupyter-widgets/controls",
          "model_name": "FloatProgressModel",
          "model_module_version": "1.5.0",
          "state": {
            "_dom_classes": [],
            "_model_module": "@jupyter-widgets/controls",
            "_model_module_version": "1.5.0",
            "_model_name": "FloatProgressModel",
            "_view_count": null,
            "_view_module": "@jupyter-widgets/controls",
            "_view_module_version": "1.5.0",
            "_view_name": "ProgressView",
            "bar_style": "success",
            "description": "",
            "description_tooltip": null,
            "layout": "IPY_MODEL_e4fb4c909df14a61963ff9a8ba3fe4fd",
            "max": 570,
            "min": 0,
            "orientation": "horizontal",
            "style": "IPY_MODEL_9fd7ea009265424da5c2c6410fa42cd3",
            "value": 570
          }
        },
        "cd9be941c1064100a6ea63b02c65c8e8": {
          "model_module": "@jupyter-widgets/controls",
          "model_name": "HTMLModel",
          "model_module_version": "1.5.0",
          "state": {
            "_dom_classes": [],
            "_model_module": "@jupyter-widgets/controls",
            "_model_module_version": "1.5.0",
            "_model_name": "HTMLModel",
            "_view_count": null,
            "_view_module": "@jupyter-widgets/controls",
            "_view_module_version": "1.5.0",
            "_view_name": "HTMLView",
            "description": "",
            "description_tooltip": null,
            "layout": "IPY_MODEL_e8e75d5640754edbbdae4099919c7204",
            "placeholder": "​",
            "style": "IPY_MODEL_48926cc6d65a4cdba7b219490c5e751f",
            "value": " 570/570 [00:00&lt;00:00, 39.2kB/s]"
          }
        },
        "4930b855e22e4e5582b93e0132d4a341": {
          "model_module": "@jupyter-widgets/base",
          "model_name": "LayoutModel",
          "model_module_version": "1.2.0",
          "state": {
            "_model_module": "@jupyter-widgets/base",
            "_model_module_version": "1.2.0",
            "_model_name": "LayoutModel",
            "_view_count": null,
            "_view_module": "@jupyter-widgets/base",
            "_view_module_version": "1.2.0",
            "_view_name": "LayoutView",
            "align_content": null,
            "align_items": null,
            "align_self": null,
            "border": null,
            "bottom": null,
            "display": null,
            "flex": null,
            "flex_flow": null,
            "grid_area": null,
            "grid_auto_columns": null,
            "grid_auto_flow": null,
            "grid_auto_rows": null,
            "grid_column": null,
            "grid_gap": null,
            "grid_row": null,
            "grid_template_areas": null,
            "grid_template_columns": null,
            "grid_template_rows": null,
            "height": null,
            "justify_content": null,
            "justify_items": null,
            "left": null,
            "margin": null,
            "max_height": null,
            "max_width": null,
            "min_height": null,
            "min_width": null,
            "object_fit": null,
            "object_position": null,
            "order": null,
            "overflow": null,
            "overflow_x": null,
            "overflow_y": null,
            "padding": null,
            "right": null,
            "top": null,
            "visibility": null,
            "width": null
          }
        },
        "096aaffcd8754c558eb591bbe13eeb9b": {
          "model_module": "@jupyter-widgets/base",
          "model_name": "LayoutModel",
          "model_module_version": "1.2.0",
          "state": {
            "_model_module": "@jupyter-widgets/base",
            "_model_module_version": "1.2.0",
            "_model_name": "LayoutModel",
            "_view_count": null,
            "_view_module": "@jupyter-widgets/base",
            "_view_module_version": "1.2.0",
            "_view_name": "LayoutView",
            "align_content": null,
            "align_items": null,
            "align_self": null,
            "border": null,
            "bottom": null,
            "display": null,
            "flex": null,
            "flex_flow": null,
            "grid_area": null,
            "grid_auto_columns": null,
            "grid_auto_flow": null,
            "grid_auto_rows": null,
            "grid_column": null,
            "grid_gap": null,
            "grid_row": null,
            "grid_template_areas": null,
            "grid_template_columns": null,
            "grid_template_rows": null,
            "height": null,
            "justify_content": null,
            "justify_items": null,
            "left": null,
            "margin": null,
            "max_height": null,
            "max_width": null,
            "min_height": null,
            "min_width": null,
            "object_fit": null,
            "object_position": null,
            "order": null,
            "overflow": null,
            "overflow_x": null,
            "overflow_y": null,
            "padding": null,
            "right": null,
            "top": null,
            "visibility": null,
            "width": null
          }
        },
        "4a55b5c87c1644069f6ec379bb3bb0a6": {
          "model_module": "@jupyter-widgets/controls",
          "model_name": "DescriptionStyleModel",
          "model_module_version": "1.5.0",
          "state": {
            "_model_module": "@jupyter-widgets/controls",
            "_model_module_version": "1.5.0",
            "_model_name": "DescriptionStyleModel",
            "_view_count": null,
            "_view_module": "@jupyter-widgets/base",
            "_view_module_version": "1.2.0",
            "_view_name": "StyleView",
            "description_width": ""
          }
        },
        "e4fb4c909df14a61963ff9a8ba3fe4fd": {
          "model_module": "@jupyter-widgets/base",
          "model_name": "LayoutModel",
          "model_module_version": "1.2.0",
          "state": {
            "_model_module": "@jupyter-widgets/base",
            "_model_module_version": "1.2.0",
            "_model_name": "LayoutModel",
            "_view_count": null,
            "_view_module": "@jupyter-widgets/base",
            "_view_module_version": "1.2.0",
            "_view_name": "LayoutView",
            "align_content": null,
            "align_items": null,
            "align_self": null,
            "border": null,
            "bottom": null,
            "display": null,
            "flex": null,
            "flex_flow": null,
            "grid_area": null,
            "grid_auto_columns": null,
            "grid_auto_flow": null,
            "grid_auto_rows": null,
            "grid_column": null,
            "grid_gap": null,
            "grid_row": null,
            "grid_template_areas": null,
            "grid_template_columns": null,
            "grid_template_rows": null,
            "height": null,
            "justify_content": null,
            "justify_items": null,
            "left": null,
            "margin": null,
            "max_height": null,
            "max_width": null,
            "min_height": null,
            "min_width": null,
            "object_fit": null,
            "object_position": null,
            "order": null,
            "overflow": null,
            "overflow_x": null,
            "overflow_y": null,
            "padding": null,
            "right": null,
            "top": null,
            "visibility": null,
            "width": null
          }
        },
        "9fd7ea009265424da5c2c6410fa42cd3": {
          "model_module": "@jupyter-widgets/controls",
          "model_name": "ProgressStyleModel",
          "model_module_version": "1.5.0",
          "state": {
            "_model_module": "@jupyter-widgets/controls",
            "_model_module_version": "1.5.0",
            "_model_name": "ProgressStyleModel",
            "_view_count": null,
            "_view_module": "@jupyter-widgets/base",
            "_view_module_version": "1.2.0",
            "_view_name": "StyleView",
            "bar_color": null,
            "description_width": ""
          }
        },
        "e8e75d5640754edbbdae4099919c7204": {
          "model_module": "@jupyter-widgets/base",
          "model_name": "LayoutModel",
          "model_module_version": "1.2.0",
          "state": {
            "_model_module": "@jupyter-widgets/base",
            "_model_module_version": "1.2.0",
            "_model_name": "LayoutModel",
            "_view_count": null,
            "_view_module": "@jupyter-widgets/base",
            "_view_module_version": "1.2.0",
            "_view_name": "LayoutView",
            "align_content": null,
            "align_items": null,
            "align_self": null,
            "border": null,
            "bottom": null,
            "display": null,
            "flex": null,
            "flex_flow": null,
            "grid_area": null,
            "grid_auto_columns": null,
            "grid_auto_flow": null,
            "grid_auto_rows": null,
            "grid_column": null,
            "grid_gap": null,
            "grid_row": null,
            "grid_template_areas": null,
            "grid_template_columns": null,
            "grid_template_rows": null,
            "height": null,
            "justify_content": null,
            "justify_items": null,
            "left": null,
            "margin": null,
            "max_height": null,
            "max_width": null,
            "min_height": null,
            "min_width": null,
            "object_fit": null,
            "object_position": null,
            "order": null,
            "overflow": null,
            "overflow_x": null,
            "overflow_y": null,
            "padding": null,
            "right": null,
            "top": null,
            "visibility": null,
            "width": null
          }
        },
        "48926cc6d65a4cdba7b219490c5e751f": {
          "model_module": "@jupyter-widgets/controls",
          "model_name": "DescriptionStyleModel",
          "model_module_version": "1.5.0",
          "state": {
            "_model_module": "@jupyter-widgets/controls",
            "_model_module_version": "1.5.0",
            "_model_name": "DescriptionStyleModel",
            "_view_count": null,
            "_view_module": "@jupyter-widgets/base",
            "_view_module_version": "1.2.0",
            "_view_name": "StyleView",
            "description_width": ""
          }
        },
        "448b9b747a154b9f9ab4ae9d5d8c7df6": {
          "model_module": "@jupyter-widgets/controls",
          "model_name": "HBoxModel",
          "model_module_version": "1.5.0",
          "state": {
            "_dom_classes": [],
            "_model_module": "@jupyter-widgets/controls",
            "_model_module_version": "1.5.0",
            "_model_name": "HBoxModel",
            "_view_count": null,
            "_view_module": "@jupyter-widgets/controls",
            "_view_module_version": "1.5.0",
            "_view_name": "HBoxView",
            "box_style": "",
            "children": [
              "IPY_MODEL_3dad1246ffd448378d02bebcf5b7070a",
              "IPY_MODEL_5b46cdb1ad3e437993a14069313102f3",
              "IPY_MODEL_5b238fe5a8b6495fa9fc7af5ef13e18a"
            ],
            "layout": "IPY_MODEL_932609f82df74e8fbe0fae34141b35d0"
          }
        },
        "3dad1246ffd448378d02bebcf5b7070a": {
          "model_module": "@jupyter-widgets/controls",
          "model_name": "HTMLModel",
          "model_module_version": "1.5.0",
          "state": {
            "_dom_classes": [],
            "_model_module": "@jupyter-widgets/controls",
            "_model_module_version": "1.5.0",
            "_model_name": "HTMLModel",
            "_view_count": null,
            "_view_module": "@jupyter-widgets/controls",
            "_view_module_version": "1.5.0",
            "_view_name": "HTMLView",
            "description": "",
            "description_tooltip": null,
            "layout": "IPY_MODEL_b508df87ce944c708d9a9ff896ff6439",
            "placeholder": "​",
            "style": "IPY_MODEL_35b77a178387430faa8796823d994427",
            "value": "model.safetensors: 100%"
          }
        },
        "5b46cdb1ad3e437993a14069313102f3": {
          "model_module": "@jupyter-widgets/controls",
          "model_name": "FloatProgressModel",
          "model_module_version": "1.5.0",
          "state": {
            "_dom_classes": [],
            "_model_module": "@jupyter-widgets/controls",
            "_model_module_version": "1.5.0",
            "_model_name": "FloatProgressModel",
            "_view_count": null,
            "_view_module": "@jupyter-widgets/controls",
            "_view_module_version": "1.5.0",
            "_view_name": "ProgressView",
            "bar_style": "success",
            "description": "",
            "description_tooltip": null,
            "layout": "IPY_MODEL_92f2ea4ea7824ec0b7135d6ac6b011b1",
            "max": 435755784,
            "min": 0,
            "orientation": "horizontal",
            "style": "IPY_MODEL_b9fbbda3e3814576909bb8cc0345100f",
            "value": 435755784
          }
        },
        "5b238fe5a8b6495fa9fc7af5ef13e18a": {
          "model_module": "@jupyter-widgets/controls",
          "model_name": "HTMLModel",
          "model_module_version": "1.5.0",
          "state": {
            "_dom_classes": [],
            "_model_module": "@jupyter-widgets/controls",
            "_model_module_version": "1.5.0",
            "_model_name": "HTMLModel",
            "_view_count": null,
            "_view_module": "@jupyter-widgets/controls",
            "_view_module_version": "1.5.0",
            "_view_name": "HTMLView",
            "description": "",
            "description_tooltip": null,
            "layout": "IPY_MODEL_2073d0678cc8407fb085d7d2706f650d",
            "placeholder": "​",
            "style": "IPY_MODEL_9da0f761a66c42ec88f7f58449ad19e3",
            "value": " 436M/436M [00:06&lt;00:00, 21.4MB/s]"
          }
        },
        "932609f82df74e8fbe0fae34141b35d0": {
          "model_module": "@jupyter-widgets/base",
          "model_name": "LayoutModel",
          "model_module_version": "1.2.0",
          "state": {
            "_model_module": "@jupyter-widgets/base",
            "_model_module_version": "1.2.0",
            "_model_name": "LayoutModel",
            "_view_count": null,
            "_view_module": "@jupyter-widgets/base",
            "_view_module_version": "1.2.0",
            "_view_name": "LayoutView",
            "align_content": null,
            "align_items": null,
            "align_self": null,
            "border": null,
            "bottom": null,
            "display": null,
            "flex": null,
            "flex_flow": null,
            "grid_area": null,
            "grid_auto_columns": null,
            "grid_auto_flow": null,
            "grid_auto_rows": null,
            "grid_column": null,
            "grid_gap": null,
            "grid_row": null,
            "grid_template_areas": null,
            "grid_template_columns": null,
            "grid_template_rows": null,
            "height": null,
            "justify_content": null,
            "justify_items": null,
            "left": null,
            "margin": null,
            "max_height": null,
            "max_width": null,
            "min_height": null,
            "min_width": null,
            "object_fit": null,
            "object_position": null,
            "order": null,
            "overflow": null,
            "overflow_x": null,
            "overflow_y": null,
            "padding": null,
            "right": null,
            "top": null,
            "visibility": null,
            "width": null
          }
        },
        "b508df87ce944c708d9a9ff896ff6439": {
          "model_module": "@jupyter-widgets/base",
          "model_name": "LayoutModel",
          "model_module_version": "1.2.0",
          "state": {
            "_model_module": "@jupyter-widgets/base",
            "_model_module_version": "1.2.0",
            "_model_name": "LayoutModel",
            "_view_count": null,
            "_view_module": "@jupyter-widgets/base",
            "_view_module_version": "1.2.0",
            "_view_name": "LayoutView",
            "align_content": null,
            "align_items": null,
            "align_self": null,
            "border": null,
            "bottom": null,
            "display": null,
            "flex": null,
            "flex_flow": null,
            "grid_area": null,
            "grid_auto_columns": null,
            "grid_auto_flow": null,
            "grid_auto_rows": null,
            "grid_column": null,
            "grid_gap": null,
            "grid_row": null,
            "grid_template_areas": null,
            "grid_template_columns": null,
            "grid_template_rows": null,
            "height": null,
            "justify_content": null,
            "justify_items": null,
            "left": null,
            "margin": null,
            "max_height": null,
            "max_width": null,
            "min_height": null,
            "min_width": null,
            "object_fit": null,
            "object_position": null,
            "order": null,
            "overflow": null,
            "overflow_x": null,
            "overflow_y": null,
            "padding": null,
            "right": null,
            "top": null,
            "visibility": null,
            "width": null
          }
        },
        "35b77a178387430faa8796823d994427": {
          "model_module": "@jupyter-widgets/controls",
          "model_name": "DescriptionStyleModel",
          "model_module_version": "1.5.0",
          "state": {
            "_model_module": "@jupyter-widgets/controls",
            "_model_module_version": "1.5.0",
            "_model_name": "DescriptionStyleModel",
            "_view_count": null,
            "_view_module": "@jupyter-widgets/base",
            "_view_module_version": "1.2.0",
            "_view_name": "StyleView",
            "description_width": ""
          }
        },
        "92f2ea4ea7824ec0b7135d6ac6b011b1": {
          "model_module": "@jupyter-widgets/base",
          "model_name": "LayoutModel",
          "model_module_version": "1.2.0",
          "state": {
            "_model_module": "@jupyter-widgets/base",
            "_model_module_version": "1.2.0",
            "_model_name": "LayoutModel",
            "_view_count": null,
            "_view_module": "@jupyter-widgets/base",
            "_view_module_version": "1.2.0",
            "_view_name": "LayoutView",
            "align_content": null,
            "align_items": null,
            "align_self": null,
            "border": null,
            "bottom": null,
            "display": null,
            "flex": null,
            "flex_flow": null,
            "grid_area": null,
            "grid_auto_columns": null,
            "grid_auto_flow": null,
            "grid_auto_rows": null,
            "grid_column": null,
            "grid_gap": null,
            "grid_row": null,
            "grid_template_areas": null,
            "grid_template_columns": null,
            "grid_template_rows": null,
            "height": null,
            "justify_content": null,
            "justify_items": null,
            "left": null,
            "margin": null,
            "max_height": null,
            "max_width": null,
            "min_height": null,
            "min_width": null,
            "object_fit": null,
            "object_position": null,
            "order": null,
            "overflow": null,
            "overflow_x": null,
            "overflow_y": null,
            "padding": null,
            "right": null,
            "top": null,
            "visibility": null,
            "width": null
          }
        },
        "b9fbbda3e3814576909bb8cc0345100f": {
          "model_module": "@jupyter-widgets/controls",
          "model_name": "ProgressStyleModel",
          "model_module_version": "1.5.0",
          "state": {
            "_model_module": "@jupyter-widgets/controls",
            "_model_module_version": "1.5.0",
            "_model_name": "ProgressStyleModel",
            "_view_count": null,
            "_view_module": "@jupyter-widgets/base",
            "_view_module_version": "1.2.0",
            "_view_name": "StyleView",
            "bar_color": null,
            "description_width": ""
          }
        },
        "2073d0678cc8407fb085d7d2706f650d": {
          "model_module": "@jupyter-widgets/base",
          "model_name": "LayoutModel",
          "model_module_version": "1.2.0",
          "state": {
            "_model_module": "@jupyter-widgets/base",
            "_model_module_version": "1.2.0",
            "_model_name": "LayoutModel",
            "_view_count": null,
            "_view_module": "@jupyter-widgets/base",
            "_view_module_version": "1.2.0",
            "_view_name": "LayoutView",
            "align_content": null,
            "align_items": null,
            "align_self": null,
            "border": null,
            "bottom": null,
            "display": null,
            "flex": null,
            "flex_flow": null,
            "grid_area": null,
            "grid_auto_columns": null,
            "grid_auto_flow": null,
            "grid_auto_rows": null,
            "grid_column": null,
            "grid_gap": null,
            "grid_row": null,
            "grid_template_areas": null,
            "grid_template_columns": null,
            "grid_template_rows": null,
            "height": null,
            "justify_content": null,
            "justify_items": null,
            "left": null,
            "margin": null,
            "max_height": null,
            "max_width": null,
            "min_height": null,
            "min_width": null,
            "object_fit": null,
            "object_position": null,
            "order": null,
            "overflow": null,
            "overflow_x": null,
            "overflow_y": null,
            "padding": null,
            "right": null,
            "top": null,
            "visibility": null,
            "width": null
          }
        },
        "9da0f761a66c42ec88f7f58449ad19e3": {
          "model_module": "@jupyter-widgets/controls",
          "model_name": "DescriptionStyleModel",
          "model_module_version": "1.5.0",
          "state": {
            "_model_module": "@jupyter-widgets/controls",
            "_model_module_version": "1.5.0",
            "_model_name": "DescriptionStyleModel",
            "_view_count": null,
            "_view_module": "@jupyter-widgets/base",
            "_view_module_version": "1.2.0",
            "_view_name": "StyleView",
            "description_width": ""
          }
        }
      }
    }
  },
  "nbformat": 4,
  "nbformat_minor": 0
}